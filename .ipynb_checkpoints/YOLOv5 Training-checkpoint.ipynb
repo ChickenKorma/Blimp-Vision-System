{
 "cells": [
  {
   "cell_type": "markdown",
   "metadata": {},
   "source": [
    "# Install Requirements and Dependencies"
   ]
  },
  {
   "cell_type": "markdown",
   "metadata": {},
   "source": [
    "Install the PyTorch library and the YOLOv5 models"
   ]
  },
  {
   "cell_type": "code",
   "execution_count": 7,
   "metadata": {},
   "outputs": [
    {
     "name": "stdout",
     "output_type": "stream",
     "text": [
      "Requirement already satisfied: torch in d:\\programs\\anaconda\\lib\\site-packages (1.13.1)\n",
      "Requirement already satisfied: typing-extensions in d:\\programs\\anaconda\\lib\\site-packages (from torch) (3.7.4.2)\n"
     ]
    }
   ],
   "source": [
    "!pip install torch  "
   ]
  },
  {
   "cell_type": "code",
   "execution_count": 8,
   "metadata": {},
   "outputs": [
    {
     "name": "stderr",
     "output_type": "stream",
     "text": [
      "Cloning into 'yolov5'...\n"
     ]
    }
   ],
   "source": [
    "!git clone https://github.com/ultralytics/yolov5 "
   ]
  },
  {
   "cell_type": "markdown",
   "metadata": {},
   "source": [
    "Move to YOLOv5 folder"
   ]
  },
  {
   "cell_type": "code",
   "execution_count": 6,
   "metadata": {},
   "outputs": [
    {
     "ename": "ImportError",
     "evalue": "cannot import name 'TypeAlias' from 'typing_extensions' (D:\\Programs\\Anaconda\\lib\\site-packages\\typing_extensions.py)",
     "output_type": "error",
     "traceback": [
      "\u001b[1;31m---------------------------------------------------------------------------\u001b[0m",
      "\u001b[1;31mImportError\u001b[0m                               Traceback (most recent call last)",
      "\u001b[1;32m<ipython-input-6-eb42ca6e4af3>\u001b[0m in \u001b[0;36m<module>\u001b[1;34m\u001b[0m\n\u001b[1;32m----> 1\u001b[1;33m \u001b[1;32mimport\u001b[0m \u001b[0mtorch\u001b[0m\u001b[1;33m\u001b[0m\u001b[1;33m\u001b[0m\u001b[0m\n\u001b[0m",
      "\u001b[1;32mD:\\Programs\\Anaconda\\lib\\site-packages\\torch\\__init__.py\u001b[0m in \u001b[0;36m<module>\u001b[1;34m\u001b[0m\n\u001b[0;32m    777\u001b[0m \u001b[1;31m# If you edit these imports, please update torch/__init__.py.in as well\u001b[0m\u001b[1;33m\u001b[0m\u001b[1;33m\u001b[0m\u001b[1;33m\u001b[0m\u001b[0m\n\u001b[0;32m    778\u001b[0m \u001b[1;32mfrom\u001b[0m \u001b[1;33m.\u001b[0m\u001b[0mrandom\u001b[0m \u001b[1;32mimport\u001b[0m \u001b[0mset_rng_state\u001b[0m\u001b[1;33m,\u001b[0m \u001b[0mget_rng_state\u001b[0m\u001b[1;33m,\u001b[0m \u001b[0mmanual_seed\u001b[0m\u001b[1;33m,\u001b[0m \u001b[0minitial_seed\u001b[0m\u001b[1;33m,\u001b[0m \u001b[0mseed\u001b[0m\u001b[1;33m\u001b[0m\u001b[1;33m\u001b[0m\u001b[0m\n\u001b[1;32m--> 779\u001b[1;33m \u001b[1;32mfrom\u001b[0m \u001b[1;33m.\u001b[0m\u001b[0mserialization\u001b[0m \u001b[1;32mimport\u001b[0m \u001b[0msave\u001b[0m\u001b[1;33m,\u001b[0m \u001b[0mload\u001b[0m\u001b[1;33m\u001b[0m\u001b[1;33m\u001b[0m\u001b[0m\n\u001b[0m\u001b[0;32m    780\u001b[0m \u001b[1;32mfrom\u001b[0m \u001b[1;33m.\u001b[0m\u001b[0m_tensor_str\u001b[0m \u001b[1;32mimport\u001b[0m \u001b[0mset_printoptions\u001b[0m\u001b[1;33m\u001b[0m\u001b[1;33m\u001b[0m\u001b[0m\n\u001b[0;32m    781\u001b[0m \u001b[1;33m\u001b[0m\u001b[0m\n",
      "\u001b[1;32mD:\\Programs\\Anaconda\\lib\\site-packages\\torch\\serialization.py\u001b[0m in \u001b[0;36m<module>\u001b[1;34m\u001b[0m\n\u001b[0;32m     16\u001b[0m \u001b[1;32mfrom\u001b[0m \u001b[0mtorch\u001b[0m\u001b[1;33m.\u001b[0m\u001b[0mstorage\u001b[0m \u001b[1;32mimport\u001b[0m \u001b[0m_get_dtype_from_pickle_storage_type\u001b[0m\u001b[1;33m\u001b[0m\u001b[1;33m\u001b[0m\u001b[0m\n\u001b[0;32m     17\u001b[0m \u001b[1;32mfrom\u001b[0m \u001b[0mtyping\u001b[0m \u001b[1;32mimport\u001b[0m \u001b[0mAny\u001b[0m\u001b[1;33m,\u001b[0m \u001b[0mBinaryIO\u001b[0m\u001b[1;33m,\u001b[0m \u001b[0mCallable\u001b[0m\u001b[1;33m,\u001b[0m \u001b[0mcast\u001b[0m\u001b[1;33m,\u001b[0m \u001b[0mDict\u001b[0m\u001b[1;33m,\u001b[0m \u001b[0mOptional\u001b[0m\u001b[1;33m,\u001b[0m \u001b[0mType\u001b[0m\u001b[1;33m,\u001b[0m \u001b[0mTuple\u001b[0m\u001b[1;33m,\u001b[0m \u001b[0mUnion\u001b[0m\u001b[1;33m,\u001b[0m \u001b[0mIO\u001b[0m\u001b[1;33m\u001b[0m\u001b[1;33m\u001b[0m\u001b[0m\n\u001b[1;32m---> 18\u001b[1;33m \u001b[1;32mfrom\u001b[0m \u001b[0mtyping_extensions\u001b[0m \u001b[1;32mimport\u001b[0m \u001b[0mTypeAlias\u001b[0m\u001b[1;33m\u001b[0m\u001b[1;33m\u001b[0m\u001b[0m\n\u001b[0m\u001b[0;32m     19\u001b[0m \u001b[1;32mimport\u001b[0m \u001b[0mcopyreg\u001b[0m\u001b[1;33m\u001b[0m\u001b[1;33m\u001b[0m\u001b[0m\n\u001b[0;32m     20\u001b[0m \u001b[1;32mimport\u001b[0m \u001b[0mpickle\u001b[0m\u001b[1;33m\u001b[0m\u001b[1;33m\u001b[0m\u001b[0m\n",
      "\u001b[1;31mImportError\u001b[0m: cannot import name 'TypeAlias' from 'typing_extensions' (D:\\Programs\\Anaconda\\lib\\site-packages\\typing_extensions.py)"
     ]
    }
   ],
   "source": [
    "import torch"
   ]
  },
  {
   "cell_type": "code",
   "execution_count": 2,
   "metadata": {},
   "outputs": [
    {
     "name": "stdout",
     "output_type": "stream",
     "text": [
      "D:\\Uni Stuff\\IP\\Coding\\Repository\\Blimp-Vision-System\\yolov5\n"
     ]
    }
   ],
   "source": [
    "%cd yolov5"
   ]
  },
  {
   "cell_type": "markdown",
   "metadata": {},
   "source": [
    "Install other requirements"
   ]
  },
  {
   "cell_type": "code",
   "execution_count": 3,
   "metadata": {},
   "outputs": [
    {
     "name": "stdout",
     "output_type": "stream",
     "text": [
      "Requirement already satisfied: gitpython in d:\\programs\\anaconda\\lib\\site-packages (from -r requirements.txt (line 5)) (3.1.31)\n",
      "Requirement already satisfied: ipython in d:\\programs\\anaconda\\lib\\site-packages (from -r requirements.txt (line 6)) (7.16.1)\n",
      "Requirement already satisfied: matplotlib>=3.2.2 in d:\\programs\\anaconda\\lib\\site-packages (from -r requirements.txt (line 7)) (3.2.2)\n",
      "Requirement already satisfied: numpy>=1.18.5 in d:\\programs\\anaconda\\lib\\site-packages (from -r requirements.txt (line 8)) (1.18.5)\n",
      "Requirement already satisfied: opencv-python>=4.1.1 in d:\\programs\\anaconda\\lib\\site-packages (from -r requirements.txt (line 9)) (4.6.0.66)\n",
      "Requirement already satisfied: Pillow>=7.1.2 in d:\\programs\\anaconda\\lib\\site-packages (from -r requirements.txt (line 10)) (7.2.0)\n",
      "Requirement already satisfied: psutil in d:\\programs\\anaconda\\lib\\site-packages (from -r requirements.txt (line 11)) (5.7.0)\n",
      "Requirement already satisfied: PyYAML>=5.3.1 in d:\\programs\\anaconda\\lib\\site-packages (from -r requirements.txt (line 12)) (5.3.1)\n",
      "Requirement already satisfied: requests>=2.23.0 in d:\\programs\\anaconda\\lib\\site-packages (from -r requirements.txt (line 13)) (2.24.0)\n",
      "Requirement already satisfied: scipy>=1.4.1 in d:\\programs\\anaconda\\lib\\site-packages (from -r requirements.txt (line 14)) (1.5.0)\n",
      "Requirement already satisfied: thop>=0.1.1 in d:\\programs\\anaconda\\lib\\site-packages (from -r requirements.txt (line 15)) (0.1.1.post2209072238)\n",
      "Requirement already satisfied: torch>=1.7.0 in d:\\programs\\anaconda\\lib\\site-packages (from -r requirements.txt (line 16)) (1.13.1)\n",
      "Requirement already satisfied: torchvision>=0.8.1 in d:\\programs\\anaconda\\lib\\site-packages (from -r requirements.txt (line 17)) (0.14.1)\n",
      "Requirement already satisfied: tqdm>=4.64.0 in d:\\programs\\anaconda\\lib\\site-packages (from -r requirements.txt (line 18)) (4.64.1)\n",
      "Requirement already satisfied: tensorboard>=2.4.1 in d:\\programs\\anaconda\\lib\\site-packages (from -r requirements.txt (line 22)) (2.12.0)\n",
      "Requirement already satisfied: pandas>=1.1.4 in d:\\programs\\anaconda\\lib\\site-packages (from -r requirements.txt (line 27)) (1.5.3)\n",
      "Requirement already satisfied: seaborn>=0.11.0 in d:\\programs\\anaconda\\lib\\site-packages (from -r requirements.txt (line 28)) (0.12.2)\n",
      "Requirement already satisfied: setuptools>=65.5.1 in d:\\programs\\anaconda\\lib\\site-packages (from -r requirements.txt (line 42)) (67.4.0)\n",
      "Requirement already satisfied: wheel>=0.38.0 in d:\\programs\\anaconda\\lib\\site-packages (from -r requirements.txt (line 43)) (0.38.4)\n",
      "Requirement already satisfied: gitdb<5,>=4.0.1 in d:\\programs\\anaconda\\lib\\site-packages (from gitpython->-r requirements.txt (line 5)) (4.0.10)\n",
      "Requirement already satisfied: pygments in d:\\programs\\anaconda\\lib\\site-packages (from ipython->-r requirements.txt (line 6)) (2.6.1)\n",
      "Requirement already satisfied: backcall in d:\\programs\\anaconda\\lib\\site-packages (from ipython->-r requirements.txt (line 6)) (0.2.0)\n",
      "Requirement already satisfied: traitlets>=4.2 in d:\\programs\\anaconda\\lib\\site-packages (from ipython->-r requirements.txt (line 6)) (4.3.3)\n",
      "Requirement already satisfied: jedi>=0.10 in d:\\programs\\anaconda\\lib\\site-packages (from ipython->-r requirements.txt (line 6)) (0.17.1)\n",
      "Requirement already satisfied: pickleshare in d:\\programs\\anaconda\\lib\\site-packages (from ipython->-r requirements.txt (line 6)) (0.7.5)\n",
      "Requirement already satisfied: colorama; sys_platform == \"win32\" in d:\\programs\\anaconda\\lib\\site-packages (from ipython->-r requirements.txt (line 6)) (0.4.3)\n",
      "Requirement already satisfied: prompt-toolkit!=3.0.0,!=3.0.1,<3.1.0,>=2.0.0 in d:\\programs\\anaconda\\lib\\site-packages (from ipython->-r requirements.txt (line 6)) (3.0.5)\n",
      "Requirement already satisfied: decorator in d:\\programs\\anaconda\\lib\\site-packages (from ipython->-r requirements.txt (line 6)) (4.4.2)\n",
      "Requirement already satisfied: pyparsing!=2.0.4,!=2.1.2,!=2.1.6,>=2.0.1 in d:\\programs\\anaconda\\lib\\site-packages (from matplotlib>=3.2.2->-r requirements.txt (line 7)) (2.4.7)\n",
      "Requirement already satisfied: cycler>=0.10 in d:\\programs\\anaconda\\lib\\site-packages (from matplotlib>=3.2.2->-r requirements.txt (line 7)) (0.10.0)\n",
      "Requirement already satisfied: python-dateutil>=2.1 in d:\\programs\\anaconda\\lib\\site-packages (from matplotlib>=3.2.2->-r requirements.txt (line 7)) (2.8.1)\n",
      "Requirement already satisfied: kiwisolver>=1.0.1 in d:\\programs\\anaconda\\lib\\site-packages (from matplotlib>=3.2.2->-r requirements.txt (line 7)) (1.2.0)\n",
      "Requirement already satisfied: urllib3!=1.25.0,!=1.25.1,<1.26,>=1.21.1 in d:\\programs\\anaconda\\lib\\site-packages (from requests>=2.23.0->-r requirements.txt (line 13)) (1.25.9)\n",
      "Requirement already satisfied: chardet<4,>=3.0.2 in d:\\programs\\anaconda\\lib\\site-packages (from requests>=2.23.0->-r requirements.txt (line 13)) (3.0.4)\n",
      "Requirement already satisfied: certifi>=2017.4.17 in d:\\programs\\anaconda\\lib\\site-packages (from requests>=2.23.0->-r requirements.txt (line 13)) (2020.6.20)\n",
      "Requirement already satisfied: idna<3,>=2.5 in d:\\programs\\anaconda\\lib\\site-packages (from requests>=2.23.0->-r requirements.txt (line 13)) (2.10)\n",
      "Requirement already satisfied: typing-extensions in d:\\programs\\anaconda\\lib\\site-packages (from torch>=1.7.0->-r requirements.txt (line 16)) (3.7.4.2)\n",
      "Requirement already satisfied: protobuf>=3.19.6 in d:\\programs\\anaconda\\lib\\site-packages (from tensorboard>=2.4.1->-r requirements.txt (line 22)) (4.22.0)\n",
      "Requirement already satisfied: tensorboard-data-server<0.8.0,>=0.7.0 in d:\\programs\\anaconda\\lib\\site-packages (from tensorboard>=2.4.1->-r requirements.txt (line 22)) (0.7.0)\n",
      "Requirement already satisfied: tensorboard-plugin-wit>=1.6.0 in d:\\programs\\anaconda\\lib\\site-packages (from tensorboard>=2.4.1->-r requirements.txt (line 22)) (1.8.1)\n",
      "Requirement already satisfied: markdown>=2.6.8 in d:\\programs\\anaconda\\lib\\site-packages (from tensorboard>=2.4.1->-r requirements.txt (line 22)) (3.4.1)\n",
      "Requirement already satisfied: werkzeug>=1.0.1 in d:\\programs\\anaconda\\lib\\site-packages (from tensorboard>=2.4.1->-r requirements.txt (line 22)) (1.0.1)\n",
      "Requirement already satisfied: google-auth<3,>=1.6.3 in d:\\programs\\anaconda\\lib\\site-packages (from tensorboard>=2.4.1->-r requirements.txt (line 22)) (2.16.1)\n",
      "Requirement already satisfied: grpcio>=1.48.2 in d:\\programs\\anaconda\\lib\\site-packages (from tensorboard>=2.4.1->-r requirements.txt (line 22)) (1.51.3)\n",
      "Requirement already satisfied: absl-py>=0.4 in d:\\programs\\anaconda\\lib\\site-packages (from tensorboard>=2.4.1->-r requirements.txt (line 22)) (1.4.0)\n",
      "Requirement already satisfied: google-auth-oauthlib<0.5,>=0.4.1 in d:\\programs\\anaconda\\lib\\site-packages (from tensorboard>=2.4.1->-r requirements.txt (line 22)) (0.4.6)\n",
      "Requirement already satisfied: pytz>=2020.1 in d:\\programs\\anaconda\\lib\\site-packages (from pandas>=1.1.4->-r requirements.txt (line 27)) (2020.1)\n",
      "Requirement already satisfied: smmap<6,>=3.0.1 in d:\\programs\\anaconda\\lib\\site-packages (from gitdb<5,>=4.0.1->gitpython->-r requirements.txt (line 5)) (5.0.0)\n",
      "Requirement already satisfied: six in d:\\programs\\anaconda\\lib\\site-packages (from traitlets>=4.2->ipython->-r requirements.txt (line 6)) (1.15.0)\n",
      "Requirement already satisfied: ipython-genutils in d:\\programs\\anaconda\\lib\\site-packages (from traitlets>=4.2->ipython->-r requirements.txt (line 6)) (0.2.0)\n",
      "Requirement already satisfied: parso<0.8.0,>=0.7.0 in d:\\programs\\anaconda\\lib\\site-packages (from jedi>=0.10->ipython->-r requirements.txt (line 6)) (0.7.0)\n",
      "Requirement already satisfied: wcwidth in d:\\programs\\anaconda\\lib\\site-packages (from prompt-toolkit!=3.0.0,!=3.0.1,<3.1.0,>=2.0.0->ipython->-r requirements.txt (line 6)) (0.2.5)\n",
      "Requirement already satisfied: importlib-metadata>=4.4; python_version < \"3.10\" in d:\\programs\\anaconda\\lib\\site-packages (from markdown>=2.6.8->tensorboard>=2.4.1->-r requirements.txt (line 22)) (6.0.0)\n",
      "Requirement already satisfied: rsa<5,>=3.1.4; python_version >= \"3.6\" in d:\\programs\\anaconda\\lib\\site-packages (from google-auth<3,>=1.6.3->tensorboard>=2.4.1->-r requirements.txt (line 22)) (4.9)\n",
      "Requirement already satisfied: cachetools<6.0,>=2.0.0 in d:\\programs\\anaconda\\lib\\site-packages (from google-auth<3,>=1.6.3->tensorboard>=2.4.1->-r requirements.txt (line 22)) (5.3.0)\n",
      "Requirement already satisfied: pyasn1-modules>=0.2.1 in d:\\programs\\anaconda\\lib\\site-packages (from google-auth<3,>=1.6.3->tensorboard>=2.4.1->-r requirements.txt (line 22)) (0.2.8)\n",
      "Requirement already satisfied: requests-oauthlib>=0.7.0 in d:\\programs\\anaconda\\lib\\site-packages (from google-auth-oauthlib<0.5,>=0.4.1->tensorboard>=2.4.1->-r requirements.txt (line 22)) (1.3.1)\n",
      "Requirement already satisfied: zipp>=0.5 in d:\\programs\\anaconda\\lib\\site-packages (from importlib-metadata>=4.4; python_version < \"3.10\"->markdown>=2.6.8->tensorboard>=2.4.1->-r requirements.txt (line 22)) (3.1.0)\n",
      "Requirement already satisfied: pyasn1>=0.1.3 in d:\\programs\\anaconda\\lib\\site-packages (from rsa<5,>=3.1.4; python_version >= \"3.6\"->google-auth<3,>=1.6.3->tensorboard>=2.4.1->-r requirements.txt (line 22)) (0.4.8)\n",
      "Requirement already satisfied: oauthlib>=3.0.0 in d:\\programs\\anaconda\\lib\\site-packages (from requests-oauthlib>=0.7.0->google-auth-oauthlib<0.5,>=0.4.1->tensorboard>=2.4.1->-r requirements.txt (line 22)) (3.2.2)\n"
     ]
    }
   ],
   "source": [
    "!pip install -r requirements.txt"
   ]
  },
  {
   "cell_type": "code",
   "execution_count": 5,
   "metadata": {},
   "outputs": [
    {
     "name": "stderr",
     "output_type": "stream",
     "text": [
      "Traceback (most recent call last):\n",
      "  File \"train.py\", line 30, in <module>\n",
      "    import torch\n",
      "  File \"D:\\Programs\\Anaconda\\lib\\site-packages\\torch\\__init__.py\", line 779, in <module>\n",
      "    from .serialization import save, load\n",
      "  File \"D:\\Programs\\Anaconda\\lib\\site-packages\\torch\\serialization.py\", line 18, in <module>\n",
      "    from typing_extensions import TypeAlias\n",
      "ImportError: cannot import name 'TypeAlias' from 'typing_extensions' (D:\\Programs\\Anaconda\\lib\\site-packages\\typing_extensions.py)\n"
     ]
    }
   ],
   "source": [
    "!python train.py --img 640 --batch 16--epochs 30 --data blimps.yaml --weights yolov5s.pt --cache"
   ]
  },
  {
   "cell_type": "code",
   "execution_count": null,
   "metadata": {},
   "outputs": [],
   "source": []
  }
 ],
 "metadata": {
  "kernelspec": {
   "display_name": "Python 3",
   "language": "python",
   "name": "python3"
  },
  "language_info": {
   "codemirror_mode": {
    "name": "ipython",
    "version": 3
   },
   "file_extension": ".py",
   "mimetype": "text/x-python",
   "name": "python",
   "nbconvert_exporter": "python",
   "pygments_lexer": "ipython3",
   "version": "3.8.3"
  }
 },
 "nbformat": 4,
 "nbformat_minor": 4
}
