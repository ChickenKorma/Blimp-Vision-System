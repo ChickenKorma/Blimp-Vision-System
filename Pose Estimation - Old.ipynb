{
 "cells": [
  {
   "attachments": {},
   "cell_type": "markdown",
   "metadata": {},
   "source": [
    "# Pose Estimation Models"
   ]
  },
  {
   "attachments": {},
   "cell_type": "markdown",
   "metadata": {},
   "source": [
    "## Imports"
   ]
  },
  {
   "cell_type": "code",
   "execution_count": 63,
   "metadata": {},
   "outputs": [],
   "source": [
    "import pandas as pd\n",
    "import cv2 as cv\n",
    "import numpy as np\n",
    "import matplotlib.pyplot as plt\n",
    "import tensorflow as tf\n",
    "import math as m\n",
    "\n",
    "from sklearn.model_selection import train_test_split, GridSearchCV, RepeatedKFold\n",
    "from sklearn import linear_model\n",
    "from sklearn.preprocessing import PolynomialFeatures\n",
    "from sklearn.gaussian_process import GaussianProcessRegressor\n",
    "from sklearn.gaussian_process.kernels import RBF\n",
    "from sklearn.metrics import mean_absolute_error, mean_squared_error\n",
    "\n",
    "np.set_printoptions(suppress = True)"
   ]
  },
  {
   "attachments": {},
   "cell_type": "markdown",
   "metadata": {},
   "source": [
    "## Variables"
   ]
  },
  {
   "cell_type": "code",
   "execution_count": 2,
   "metadata": {},
   "outputs": [],
   "source": [
    "data_path_prefix = \"D:/Uni Stuff/IP/Data/\"\n",
    "image_path_prefix = data_path_prefix + \"Blimp Images/Raw/image_\"\n",
    "\n",
    "test_split = 0.25\n",
    "\n",
    "desired_image_size = 16\n",
    "\n",
    "image_columns = []\n",
    "colours = {0:\"R\", 1:\"G\", 2:\"B\"}\n",
    "\n",
    "for i in range(desired_image_size):\n",
    "    for j in range(desired_image_size):\n",
    "        for k in range(3):\n",
    "            image_columns.append(str(i + 1) + \" \" + str(j + 1) + \" \" + colours[k])"
   ]
  },
  {
   "attachments": {},
   "cell_type": "markdown",
   "metadata": {},
   "source": [
    "---"
   ]
  },
  {
   "attachments": {},
   "cell_type": "markdown",
   "metadata": {},
   "source": [
    "## Data Pre-processing"
   ]
  },
  {
   "attachments": {},
   "cell_type": "markdown",
   "metadata": {},
   "source": [
    "### CSVs"
   ]
  },
  {
   "attachments": {},
   "cell_type": "markdown",
   "metadata": {},
   "source": [
    "Load the bounding box and pose csv files and add to dataframes"
   ]
  },
  {
   "cell_type": "code",
   "execution_count": 3,
   "metadata": {},
   "outputs": [],
   "source": [
    "bbox_data = pd.read_csv(data_path_prefix + \"bbox data.csv\")\n",
    "\n",
    "pose_data = pd.read_csv(data_path_prefix + \"blimp poses.csv\")\n",
    "y_variables = list(pose_data.columns)"
   ]
  },
  {
   "attachments": {},
   "cell_type": "markdown",
   "metadata": {},
   "source": [
    "### Images"
   ]
  },
  {
   "attachments": {},
   "cell_type": "markdown",
   "metadata": {},
   "source": [
    "Load the images from file, crop these by the bounding box and then resize to the desired square image size with padding to preserve aspect ratio. Image data is flattened and added to dataframe."
   ]
  },
  {
   "cell_type": "code",
   "execution_count": 4,
   "metadata": {},
   "outputs": [],
   "source": [
    "def cutout_image(image, bbox):\n",
    "    width = image.shape[1]\n",
    "    height = image.shape[0]\n",
    "\n",
    "    center_x = bbox['cent_x'] * width\n",
    "    center_y = bbox['cent_y'] * height\n",
    "\n",
    "    bbox_width = bbox['width'] * width\n",
    "    bbox_height = bbox['height'] * height\n",
    "\n",
    "    min_x = np.clip(int(center_x - (bbox_width / 2)), 0, width)\n",
    "    max_x = np.clip(int(center_x + (bbox_width / 2)), 0, width) \n",
    "\n",
    "    min_y = np.clip(int(center_y - (bbox_height / 2)), 0, height)\n",
    "    max_y = np.clip(int(center_y + (bbox_height / 2)), 0, height)\n",
    "\n",
    "    return image[min_y:max_y, min_x:max_x]\n",
    "\n",
    "def process_image(image):\n",
    "    old_size = image.shape[:2]\n",
    "\n",
    "    size_ratio = float(desired_image_size) / max(old_size)\n",
    "\n",
    "    new_size = tuple([int(x * size_ratio) for x in old_size])\n",
    "\n",
    "    resized_image = cv.resize(image, (new_size[1], new_size[0]), interpolation=cv.INTER_AREA)\n",
    "\n",
    "    delta_w = desired_image_size - new_size[1]\n",
    "    delta_h = desired_image_size - new_size[0]\n",
    "    top, bottom = delta_h//2, delta_h-(delta_h//2)\n",
    "    left, right = delta_w//2, delta_w-(delta_w//2)\n",
    "\n",
    "    color = [0, 0, 0]\n",
    "    padded_image = cv.copyMakeBorder(resized_image, top, bottom, left, right, cv.BORDER_CONSTANT, value=color)\n",
    "\n",
    "    return padded_image\n",
    "\n",
    "images = pd.DataFrame(columns=image_columns)\n",
    "\n",
    "for i in range(len(pose_data)):\n",
    "    img = cv.imread(image_path_prefix + str(i) + \".png\")\n",
    "    cropped = cutout_image(img, bbox_data.iloc[i])\n",
    "    padded = process_image(cropped)\n",
    "\n",
    "    images.loc[len(images)] = padded.flatten()"
   ]
  },
  {
   "cell_type": "code",
   "execution_count": 7,
   "metadata": {},
   "outputs": [],
   "source": [
    "for i in range(5):\n",
    "    img = cv.imread(image_path_prefix + str(i) + \".png\")\n",
    "    cropped = cutout_image(img, bbox_data.iloc[i])\n",
    "    padded = process_image(cropped)\n",
    "\n",
    "    cv.imwrite(\"D:/Uni Stuff/IP/image_\" + str(i) + \".png\", padded)"
   ]
  },
  {
   "attachments": {},
   "cell_type": "markdown",
   "metadata": {},
   "source": [
    "### Splits"
   ]
  },
  {
   "attachments": {},
   "cell_type": "markdown",
   "metadata": {},
   "source": [
    "Concatenate the bounding box data and image data into one dataframe. Split that and pose data into the training and testing lists."
   ]
  },
  {
   "cell_type": "code",
   "execution_count": 5,
   "metadata": {},
   "outputs": [],
   "source": [
    "X = pd.concat([bbox_data, images], axis=1)\n",
    "\n",
    "X_train, X_test, y_train, y_test = train_test_split(X, pose_data, test_size=test_split)"
   ]
  },
  {
   "cell_type": "markdown",
   "metadata": {},
   "source": [
    "## Cleanup"
   ]
  },
  {
   "attachments": {},
   "cell_type": "markdown",
   "metadata": {},
   "source": [
    "---"
   ]
  },
  {
   "attachments": {},
   "cell_type": "markdown",
   "metadata": {},
   "source": [
    "## Deep Learning Stuff"
   ]
  },
  {
   "cell_type": "code",
   "execution_count": 56,
   "metadata": {},
   "outputs": [],
   "source": [
    "normalizer = tf.keras.layers.Normalization(axis=-1)\n",
    "normalizer.adapt(np.array(X_train))\n",
    "\n",
    "def build_and_compile_model(norm):\n",
    "  model = tf.keras.Sequential([\n",
    "      norm,\n",
    "      tf.keras.layers.Dense(64, activation='relu'),\n",
    "      tf.keras.layers.Dense(64, activation='relu'),\n",
    "      tf.keras.layers.Dense(6)\n",
    "  ])\n",
    "\n",
    "  model.compile(loss = 'mean_absolute_error', optimizer=tf.keras.optimizers.Adam(0.001))\n",
    "\n",
    "  return model\n",
    "\n",
    "dnn_model = build_and_compile_model(normalizer)"
   ]
  },
  {
   "cell_type": "code",
   "execution_count": 57,
   "metadata": {},
   "outputs": [
    {
     "name": "stdout",
     "output_type": "stream",
     "text": [
      "Model: \"sequential_9\"\n",
      "_________________________________________________________________\n",
      " Layer (type)                Output Shape              Param #   \n",
      "=================================================================\n",
      " normalization_9 (Normalizat  (None, 772)              1545      \n",
      " ion)                                                            \n",
      "                                                                 \n",
      " dense_13 (Dense)            (None, 64)                49472     \n",
      "                                                                 \n",
      " dense_14 (Dense)            (None, 64)                4160      \n",
      "                                                                 \n",
      " dense_15 (Dense)            (None, 6)                 390       \n",
      "                                                                 \n",
      "=================================================================\n",
      "Total params: 55,567\n",
      "Trainable params: 54,022\n",
      "Non-trainable params: 1,545\n",
      "_________________________________________________________________\n"
     ]
    }
   ],
   "source": [
    "dnn_model.summary()"
   ]
  },
  {
   "cell_type": "code",
   "execution_count": 58,
   "metadata": {},
   "outputs": [
    {
     "name": "stdout",
     "output_type": "stream",
     "text": [
      "Epoch 1/100\n",
      "188/188 [==============================] - 1s 2ms/step - loss: 7.0238 - val_loss: 5.8759\n",
      "Epoch 2/100\n",
      "188/188 [==============================] - 0s 1ms/step - loss: 5.0911 - val_loss: 4.4136\n",
      "Epoch 3/100\n",
      "188/188 [==============================] - 0s 1ms/step - loss: 3.6915 - val_loss: 3.2101\n",
      "Epoch 4/100\n",
      "188/188 [==============================] - 0s 1ms/step - loss: 2.7584 - val_loss: 2.5760\n",
      "Epoch 5/100\n",
      "188/188 [==============================] - 0s 1ms/step - loss: 2.1548 - val_loss: 2.0435\n",
      "Epoch 6/100\n",
      "188/188 [==============================] - 0s 1ms/step - loss: 1.8190 - val_loss: 1.7833\n",
      "Epoch 7/100\n",
      "188/188 [==============================] - 0s 1ms/step - loss: 1.6197 - val_loss: 1.7006\n",
      "Epoch 8/100\n",
      "188/188 [==============================] - 0s 1ms/step - loss: 1.5157 - val_loss: 1.6039\n",
      "Epoch 9/100\n",
      "188/188 [==============================] - 0s 1ms/step - loss: 1.3619 - val_loss: 1.4868\n",
      "Epoch 10/100\n",
      "188/188 [==============================] - 0s 1ms/step - loss: 1.2873 - val_loss: 1.4927\n",
      "Epoch 11/100\n",
      "188/188 [==============================] - 0s 1ms/step - loss: 1.2286 - val_loss: 1.3765\n",
      "Epoch 12/100\n",
      "188/188 [==============================] - 0s 1ms/step - loss: 1.1495 - val_loss: 1.2653\n",
      "Epoch 13/100\n",
      "188/188 [==============================] - 0s 1ms/step - loss: 1.1118 - val_loss: 1.2524\n",
      "Epoch 14/100\n",
      "188/188 [==============================] - 0s 1ms/step - loss: 1.0675 - val_loss: 1.2420\n",
      "Epoch 15/100\n",
      "188/188 [==============================] - 0s 1ms/step - loss: 0.9938 - val_loss: 1.1107\n",
      "Epoch 16/100\n",
      "188/188 [==============================] - 0s 1ms/step - loss: 0.9919 - val_loss: 1.0861\n",
      "Epoch 17/100\n",
      "188/188 [==============================] - 0s 1ms/step - loss: 0.9736 - val_loss: 1.0833\n",
      "Epoch 18/100\n",
      "188/188 [==============================] - 0s 1ms/step - loss: 0.9119 - val_loss: 1.0361\n",
      "Epoch 19/100\n",
      "188/188 [==============================] - 0s 1ms/step - loss: 0.9130 - val_loss: 1.0292\n",
      "Epoch 20/100\n",
      "188/188 [==============================] - 0s 1ms/step - loss: 0.9086 - val_loss: 1.0638\n",
      "Epoch 21/100\n",
      "188/188 [==============================] - 0s 1ms/step - loss: 0.9047 - val_loss: 1.0945\n",
      "Epoch 22/100\n",
      "188/188 [==============================] - 0s 1ms/step - loss: 0.8654 - val_loss: 0.9694\n",
      "Epoch 23/100\n",
      "188/188 [==============================] - 0s 1ms/step - loss: 0.8204 - val_loss: 0.9222\n",
      "Epoch 24/100\n",
      "188/188 [==============================] - 0s 1ms/step - loss: 0.8223 - val_loss: 0.9798\n",
      "Epoch 25/100\n",
      "188/188 [==============================] - 0s 1ms/step - loss: 0.7985 - val_loss: 1.0053\n",
      "Epoch 26/100\n",
      "188/188 [==============================] - 0s 1ms/step - loss: 0.8166 - val_loss: 0.9699\n",
      "Epoch 27/100\n",
      "188/188 [==============================] - 0s 1ms/step - loss: 0.7678 - val_loss: 0.9057\n",
      "Epoch 28/100\n",
      "188/188 [==============================] - 0s 1ms/step - loss: 0.7787 - val_loss: 0.9855\n",
      "Epoch 29/100\n",
      "188/188 [==============================] - 0s 1ms/step - loss: 0.7638 - val_loss: 0.9717\n",
      "Epoch 30/100\n",
      "188/188 [==============================] - 0s 1ms/step - loss: 0.7494 - val_loss: 0.9034\n",
      "Epoch 31/100\n",
      "188/188 [==============================] - 0s 1ms/step - loss: 0.7629 - val_loss: 0.8267\n",
      "Epoch 32/100\n",
      "188/188 [==============================] - 0s 1ms/step - loss: 0.7475 - val_loss: 0.9865\n",
      "Epoch 33/100\n",
      "188/188 [==============================] - 0s 1ms/step - loss: 0.7451 - val_loss: 0.8677\n",
      "Epoch 34/100\n",
      "188/188 [==============================] - 0s 1ms/step - loss: 0.7025 - val_loss: 0.8704\n",
      "Epoch 35/100\n",
      "188/188 [==============================] - 0s 1ms/step - loss: 0.7020 - val_loss: 0.9855\n",
      "Epoch 36/100\n",
      "188/188 [==============================] - 0s 1ms/step - loss: 0.7326 - val_loss: 0.8286\n",
      "Epoch 37/100\n",
      "188/188 [==============================] - 0s 1ms/step - loss: 0.6932 - val_loss: 0.8942\n",
      "Epoch 38/100\n",
      "188/188 [==============================] - 0s 1ms/step - loss: 0.7017 - val_loss: 0.8130\n",
      "Epoch 39/100\n",
      "188/188 [==============================] - 0s 1ms/step - loss: 0.6901 - val_loss: 0.7710\n",
      "Epoch 40/100\n",
      "188/188 [==============================] - 0s 1ms/step - loss: 0.6587 - val_loss: 0.7782\n",
      "Epoch 41/100\n",
      "188/188 [==============================] - 0s 1ms/step - loss: 0.6777 - val_loss: 0.7978\n",
      "Epoch 42/100\n",
      "188/188 [==============================] - 0s 1ms/step - loss: 0.6706 - val_loss: 0.8013\n",
      "Epoch 43/100\n",
      "188/188 [==============================] - 0s 1ms/step - loss: 0.6690 - val_loss: 0.8313\n",
      "Epoch 44/100\n",
      "188/188 [==============================] - 0s 1ms/step - loss: 0.6557 - val_loss: 0.8116\n",
      "Epoch 45/100\n",
      "188/188 [==============================] - 0s 1ms/step - loss: 0.6606 - val_loss: 0.8708\n",
      "Epoch 46/100\n",
      "188/188 [==============================] - 0s 1ms/step - loss: 0.6817 - val_loss: 0.7964\n",
      "Epoch 47/100\n",
      "188/188 [==============================] - 0s 1ms/step - loss: 0.6579 - val_loss: 0.7836\n",
      "Epoch 48/100\n",
      "188/188 [==============================] - 0s 1ms/step - loss: 0.6410 - val_loss: 0.7775\n",
      "Epoch 49/100\n",
      "188/188 [==============================] - 0s 1ms/step - loss: 0.6289 - val_loss: 0.7934\n",
      "Epoch 50/100\n",
      "188/188 [==============================] - 0s 1ms/step - loss: 0.6323 - val_loss: 0.7258\n",
      "Epoch 51/100\n",
      "188/188 [==============================] - 0s 1ms/step - loss: 0.6338 - val_loss: 0.7847\n",
      "Epoch 52/100\n",
      "188/188 [==============================] - 0s 1ms/step - loss: 0.5928 - val_loss: 0.7732\n",
      "Epoch 53/100\n",
      "188/188 [==============================] - 0s 1ms/step - loss: 0.6126 - val_loss: 0.7762\n",
      "Epoch 54/100\n",
      "188/188 [==============================] - 0s 1ms/step - loss: 0.6305 - val_loss: 0.8402\n",
      "Epoch 55/100\n",
      "188/188 [==============================] - 0s 1ms/step - loss: 0.5969 - val_loss: 0.7166\n",
      "Epoch 56/100\n",
      "188/188 [==============================] - 0s 1ms/step - loss: 0.6054 - val_loss: 0.7930\n",
      "Epoch 57/100\n",
      "188/188 [==============================] - 0s 1ms/step - loss: 0.6051 - val_loss: 0.7179\n",
      "Epoch 58/100\n",
      "188/188 [==============================] - 0s 1ms/step - loss: 0.5946 - val_loss: 0.8247\n",
      "Epoch 59/100\n",
      "188/188 [==============================] - 0s 1ms/step - loss: 0.6210 - val_loss: 0.7911\n",
      "Epoch 60/100\n",
      "188/188 [==============================] - 0s 1ms/step - loss: 0.5965 - val_loss: 0.7996\n",
      "Epoch 61/100\n",
      "188/188 [==============================] - 0s 1ms/step - loss: 0.6051 - val_loss: 0.7484\n",
      "Epoch 62/100\n",
      "188/188 [==============================] - 0s 1ms/step - loss: 0.5858 - val_loss: 0.7686\n",
      "Epoch 63/100\n",
      "188/188 [==============================] - 0s 1ms/step - loss: 0.5564 - val_loss: 0.7348\n",
      "Epoch 64/100\n",
      "188/188 [==============================] - 0s 1ms/step - loss: 0.5765 - val_loss: 0.7745\n",
      "Epoch 65/100\n",
      "188/188 [==============================] - 0s 1ms/step - loss: 0.5742 - val_loss: 0.7470\n",
      "Epoch 66/100\n",
      "188/188 [==============================] - 0s 1ms/step - loss: 0.5704 - val_loss: 0.7973\n",
      "Epoch 67/100\n",
      "188/188 [==============================] - 0s 1ms/step - loss: 0.5671 - val_loss: 0.6803\n",
      "Epoch 68/100\n",
      "188/188 [==============================] - 0s 1ms/step - loss: 0.5577 - val_loss: 0.7064\n",
      "Epoch 69/100\n",
      "188/188 [==============================] - 0s 1ms/step - loss: 0.5739 - val_loss: 0.7394\n",
      "Epoch 70/100\n",
      "188/188 [==============================] - 0s 1ms/step - loss: 0.5704 - val_loss: 0.7266\n",
      "Epoch 71/100\n",
      "188/188 [==============================] - 0s 1ms/step - loss: 0.5574 - val_loss: 0.7186\n",
      "Epoch 72/100\n",
      "188/188 [==============================] - 0s 1ms/step - loss: 0.5557 - val_loss: 0.7308\n",
      "Epoch 73/100\n",
      "188/188 [==============================] - 0s 1ms/step - loss: 0.5504 - val_loss: 0.7302\n",
      "Epoch 74/100\n",
      "188/188 [==============================] - 0s 1ms/step - loss: 0.5362 - val_loss: 0.7279\n",
      "Epoch 75/100\n",
      "188/188 [==============================] - 0s 1ms/step - loss: 0.5355 - val_loss: 0.7050\n",
      "Epoch 76/100\n",
      "188/188 [==============================] - 0s 1ms/step - loss: 0.5376 - val_loss: 0.6896\n",
      "Epoch 77/100\n",
      "188/188 [==============================] - 0s 1ms/step - loss: 0.5407 - val_loss: 0.7178\n",
      "Epoch 78/100\n",
      "188/188 [==============================] - 0s 1ms/step - loss: 0.5528 - val_loss: 0.7556\n",
      "Epoch 79/100\n",
      "188/188 [==============================] - 0s 1ms/step - loss: 0.5313 - val_loss: 0.7234\n",
      "Epoch 80/100\n",
      "188/188 [==============================] - 0s 1ms/step - loss: 0.5335 - val_loss: 0.7557\n",
      "Epoch 81/100\n",
      "188/188 [==============================] - 0s 1ms/step - loss: 0.5370 - val_loss: 0.6864\n",
      "Epoch 82/100\n",
      "188/188 [==============================] - 0s 1ms/step - loss: 0.5233 - val_loss: 0.6763\n",
      "Epoch 83/100\n",
      "188/188 [==============================] - 0s 1ms/step - loss: 0.5550 - val_loss: 0.7691\n",
      "Epoch 84/100\n",
      "188/188 [==============================] - 0s 1ms/step - loss: 0.5186 - val_loss: 0.7558\n",
      "Epoch 85/100\n",
      "188/188 [==============================] - 0s 1ms/step - loss: 0.5181 - val_loss: 0.6847\n",
      "Epoch 86/100\n",
      "188/188 [==============================] - 0s 1ms/step - loss: 0.5057 - val_loss: 0.6465\n",
      "Epoch 87/100\n",
      "188/188 [==============================] - 0s 1ms/step - loss: 0.5192 - val_loss: 0.6879\n",
      "Epoch 88/100\n",
      "188/188 [==============================] - 0s 1ms/step - loss: 0.5328 - val_loss: 0.6794\n",
      "Epoch 89/100\n",
      "188/188 [==============================] - 0s 1ms/step - loss: 0.5027 - val_loss: 0.6855\n",
      "Epoch 90/100\n",
      "188/188 [==============================] - 0s 1ms/step - loss: 0.5144 - val_loss: 0.7123\n",
      "Epoch 91/100\n",
      "188/188 [==============================] - 0s 1ms/step - loss: 0.5160 - val_loss: 0.6535\n",
      "Epoch 92/100\n",
      "188/188 [==============================] - 0s 1ms/step - loss: 0.5138 - val_loss: 0.6638\n",
      "Epoch 93/100\n",
      "188/188 [==============================] - 0s 1ms/step - loss: 0.5015 - val_loss: 0.6433\n",
      "Epoch 94/100\n",
      "188/188 [==============================] - 0s 1ms/step - loss: 0.5011 - val_loss: 0.7043\n",
      "Epoch 95/100\n",
      "188/188 [==============================] - 0s 1ms/step - loss: 0.5008 - val_loss: 0.7323\n",
      "Epoch 96/100\n",
      "188/188 [==============================] - 0s 1ms/step - loss: 0.5012 - val_loss: 0.6437\n",
      "Epoch 97/100\n",
      "188/188 [==============================] - 0s 1ms/step - loss: 0.5011 - val_loss: 0.7065\n",
      "Epoch 98/100\n",
      "188/188 [==============================] - 0s 1ms/step - loss: 0.4932 - val_loss: 0.6747\n",
      "Epoch 99/100\n",
      "188/188 [==============================] - 0s 1ms/step - loss: 0.5123 - val_loss: 0.6628\n",
      "Epoch 100/100\n",
      "188/188 [==============================] - 0s 1ms/step - loss: 0.4974 - val_loss: 0.6453\n"
     ]
    }
   ],
   "source": [
    "dnn_history = dnn_model.fit(X_train, y_train, validation_split=0.2, epochs=100)"
   ]
  },
  {
   "cell_type": "code",
   "execution_count": 59,
   "metadata": {},
   "outputs": [
    {
     "data": {
      "image/png": "[encoded data removed]",
      "text/plain": [
       "<Figure size 640x480 with 1 Axes>"
      ]
     },
     "metadata": {},
     "output_type": "display_data"
    }
   ],
   "source": [
    "def plot_loss(history):\n",
    "  plt.plot(history.history['loss'], label='loss')\n",
    "  plt.plot(history.history['val_loss'], label='val_loss')\n",
    "  plt.xlabel('Epoch')\n",
    "  plt.ylabel('Error')\n",
    "  plt.legend()\n",
    "  plt.grid(True)\n",
    "\n",
    "plot_loss(dnn_history)"
   ]
  },
  {
   "cell_type": "code",
   "execution_count": 60,
   "metadata": {},
   "outputs": [
    {
     "name": "stdout",
     "output_type": "stream",
     "text": [
      "79/79 [==============================] - 0s 858us/step - loss: 0.6633\n"
     ]
    },
    {
     "data": {
      "text/plain": [
       "0.6633106470108032"
      ]
     },
     "execution_count": 60,
     "metadata": {},
     "output_type": "execute_result"
    }
   ],
   "source": [
    "dnn_model.evaluate(X_test, y_test)"
   ]
  },
  {
   "cell_type": "code",
   "execution_count": 61,
   "metadata": {},
   "outputs": [
    {
     "name": "stdout",
     "output_type": "stream",
     "text": [
      "Actual:\n",
      "          pos_x      pos_y      pos_z     rot_x     rot_y     rot_z\n",
      "190    7.240973   2.744666  -2.183958 -0.077305  0.567997  2.838675\n",
      "2529  44.223068  26.082565   0.349238 -0.013046 -0.302526  2.420302\n",
      "6454  55.622398  11.789606  20.757456 -0.025140  0.178323 -2.092536\n",
      "4614  23.569904  -4.895354  -2.348495  0.100531  0.642779 -0.974271\n",
      "7366  57.181553  32.510929  -9.903076 -0.110997  0.412872  2.703349\n",
      "...         ...        ...        ...       ...       ...       ...\n",
      "4638  22.909243   3.498720  -7.105594  0.020367 -0.740245  2.699666\n",
      "470   43.601376 -20.658295   8.398165  0.141550 -0.679787 -3.001947\n",
      "4791  17.448713   0.279786  -6.539343 -0.123772  0.772163  0.393153\n",
      "4937  69.448288  -1.784993  -2.095498  0.004880 -0.641748  1.776385\n",
      "2104  37.928856  13.896941 -10.486411  0.101457 -0.494624 -1.480206\n",
      "\n",
      "[2500 rows x 6 columns]\n",
      "Predicted:\n",
      "79/79 [==============================] - 0s 692us/step\n",
      "          pos_x      pos_y      pos_z     rot_x     rot_y     rot_z\n",
      "0      7.471494   1.844608  -2.260347 -0.197055  0.730292  2.619419\n",
      "1     44.638641  24.057663   0.116232 -0.109908 -0.328692  2.525162\n",
      "2     56.922779  13.149109  20.842230 -0.038192  0.186347 -1.941728\n",
      "3     24.544230  -4.919827  -2.073116 -0.045894  0.651149 -1.032154\n",
      "4     57.321018  33.391369 -10.255549 -0.096077  0.382473  2.539988\n",
      "...         ...        ...        ...       ...       ...       ...\n",
      "2495  23.658554   5.138028  -6.693193  0.015561 -0.527819  2.866510\n",
      "2496  44.265846 -21.035500   8.427235 -0.035368 -0.547643 -2.687854\n",
      "2497  15.168098  -1.340764  -6.012466  0.029166  0.636140  0.100360\n",
      "2498  68.552109  -1.754841  -3.430951 -0.025169 -0.669835  1.993092\n",
      "2499  39.914940  14.491988 -10.384838  0.014577 -0.395561 -1.374768\n",
      "\n",
      "[2500 rows x 6 columns]\n"
     ]
    }
   ],
   "source": [
    "print(\"Actual:\")\n",
    "print(y_test)\n",
    "\n",
    "print(\"Predicted:\")\n",
    "predictions = dnn_model.predict(X_test)\n",
    "print(pd.DataFrame(predictions, columns=['pos_x', 'pos_y', 'pos_z', 'rot_x', 'rot_y', 'rot_z']))"
   ]
  },
  {
   "cell_type": "code",
   "execution_count": 77,
   "metadata": {},
   "outputs": [],
   "source": [
    "def get_rotation_matrix(rot_vec):\n",
    "    x_matrix = np.matrix([[ 1, 0           , 0],\n",
    "                          [ 0, m.cos(m.radians(rot_vec[0])),-m.sin(m.radians(rot_vec[0]))],\n",
    "                          [ 0, m.sin(m.radians(rot_vec[0])), m.cos(m.radians(rot_vec[0]))]])\n",
    "    \n",
    "    y_matrix = np.matrix([[ m.cos(m.radians(rot_vec[1])), 0, m.sin(m.radians(rot_vec[1]))],\n",
    "                          [ 0                , 1, 0 ],\n",
    "                          [-m.sin(m.radians(rot_vec[1])), 0, m.cos(m.radians(rot_vec[1]))]])\n",
    "    \n",
    "    z_matrix = np.matrix([[ m.cos(m.radians(rot_vec[2])), -m.sin(m.radians(rot_vec[2])), 0 ],\n",
    "                          [ m.sin(m.radians(rot_vec[2])),  m.cos(m.radians(rot_vec[2])), 0 ],\n",
    "                          [ 0                , 0                 , 1 ]])\n",
    "    \n",
    "    return z_matrix * y_matrix * x_matrix\n",
    "\n",
    "blimp_vertices = np.array([[1, 1, 1], [1, 1, -1], [1, -1, 1], [1, -1, -1], [-1, 1, 1], [-1, 1, -1], [-1, -1, -1], [-1, -1, 1]])\n",
    "\n",
    "true_rot_vec = np.array([0, 0, 0])\n",
    "true_rot = get_rotation_matrix(true_rot_vec)\n",
    "\n",
    "true_trans = np.array([0, 0, 0])\n",
    "\n",
    "pred_rot_vec = np.array([0, 0, 0])\n",
    "pred_rot = get_rotation_matrix(pred_rot_vec)\n",
    "\n",
    "pred_trans = np.array([1, 1, 1])\n",
    "\n",
    "total_distance = 0\n",
    "\n",
    "for vertex_pos in blimp_vertices:\n",
    "    true_pos = np.matmul(true_rot, vertex_pos) + true_trans\n",
    "    pred_pos = np.matmul(pred_rot, vertex_pos) + pred_trans\n",
    "\n",
    "    distance = np.linalg.norm(true_pos - pred_pos)\n",
    "    total_distance += distance\n",
    "\n",
    "avg_distance = total_distance / len(blimp_vertices)"
   ]
  },
  {
   "cell_type": "code",
   "execution_count": 78,
   "metadata": {},
   "outputs": [
    {
     "name": "stdout",
     "output_type": "stream",
     "text": [
      "1.732050807568877\n"
     ]
    }
   ],
   "source": [
    "print(avg_distance)"
   ]
  },
  {
   "attachments": {},
   "cell_type": "markdown",
   "metadata": {},
   "source": [
    "## Training"
   ]
  },
  {
   "attachments": {},
   "cell_type": "markdown",
   "metadata": {},
   "source": [
    "### Multilinear Regression"
   ]
  },
  {
   "cell_type": "code",
   "execution_count": 8,
   "metadata": {},
   "outputs": [
    {
     "data": {
      "text/html": [
       "<style>#sk-container-id-1 {color: black;background-color: white;}#sk-container-id-1 pre{padding: 0;}#sk-container-id-1 div.sk-toggleable {background-color: white;}#sk-container-id-1 label.sk-toggleable__label {cursor: pointer;display: block;width: 100%;margin-bottom: 0;padding: 0.3em;box-sizing: border-box;text-align: center;}#sk-container-id-1 label.sk-toggleable__label-arrow:before {content: \"▸\";float: left;margin-right: 0.25em;color: #696969;}#sk-container-id-1 label.sk-toggleable__label-arrow:hover:before {color: black;}#sk-container-id-1 div.sk-estimator:hover label.sk-toggleable__label-arrow:before {color: black;}#sk-container-id-1 div.sk-toggleable__content {max-height: 0;max-width: 0;overflow: hidden;text-align: left;background-color: #f0f8ff;}#sk-container-id-1 div.sk-toggleable__content pre {margin: 0.2em;color: black;border-radius: 0.25em;background-color: #f0f8ff;}#sk-container-id-1 input.sk-toggleable__control:checked~div.sk-toggleable__content {max-height: 200px;max-width: 100%;overflow: auto;}#sk-container-id-1 input.sk-toggleable__control:checked~label.sk-toggleable__label-arrow:before {content: \"▾\";}#sk-container-id-1 div.sk-estimator input.sk-toggleable__control:checked~label.sk-toggleable__label {background-color: #d4ebff;}#sk-container-id-1 div.sk-label input.sk-toggleable__control:checked~label.sk-toggleable__label {background-color: #d4ebff;}#sk-container-id-1 input.sk-hidden--visually {border: 0;clip: rect(1px 1px 1px 1px);clip: rect(1px, 1px, 1px, 1px);height: 1px;margin: -1px;overflow: hidden;padding: 0;position: absolute;width: 1px;}#sk-container-id-1 div.sk-estimator {font-family: monospace;background-color: #f0f8ff;border: 1px dotted black;border-radius: 0.25em;box-sizing: border-box;margin-bottom: 0.5em;}#sk-container-id-1 div.sk-estimator:hover {background-color: #d4ebff;}#sk-container-id-1 div.sk-parallel-item::after {content: \"\";width: 100%;border-bottom: 1px solid gray;flex-grow: 1;}#sk-container-id-1 div.sk-label:hover label.sk-toggleable__label {background-color: #d4ebff;}#sk-container-id-1 div.sk-serial::before {content: \"\";position: absolute;border-left: 1px solid gray;box-sizing: border-box;top: 0;bottom: 0;left: 50%;z-index: 0;}#sk-container-id-1 div.sk-serial {display: flex;flex-direction: column;align-items: center;background-color: white;padding-right: 0.2em;padding-left: 0.2em;position: relative;}#sk-container-id-1 div.sk-item {position: relative;z-index: 1;}#sk-container-id-1 div.sk-parallel {display: flex;align-items: stretch;justify-content: center;background-color: white;position: relative;}#sk-container-id-1 div.sk-item::before, #sk-container-id-1 div.sk-parallel-item::before {content: \"\";position: absolute;border-left: 1px solid gray;box-sizing: border-box;top: 0;bottom: 0;left: 50%;z-index: -1;}#sk-container-id-1 div.sk-parallel-item {display: flex;flex-direction: column;z-index: 1;position: relative;background-color: white;}#sk-container-id-1 div.sk-parallel-item:first-child::after {align-self: flex-end;width: 50%;}#sk-container-id-1 div.sk-parallel-item:last-child::after {align-self: flex-start;width: 50%;}#sk-container-id-1 div.sk-parallel-item:only-child::after {width: 0;}#sk-container-id-1 div.sk-dashed-wrapped {border: 1px dashed gray;margin: 0 0.4em 0.5em 0.4em;box-sizing: border-box;padding-bottom: 0.4em;background-color: white;}#sk-container-id-1 div.sk-label label {font-family: monospace;font-weight: bold;display: inline-block;line-height: 1.2em;}#sk-container-id-1 div.sk-label-container {text-align: center;}#sk-container-id-1 div.sk-container {/* jupyter's `normalize.less` sets `[hidden] { display: none; }` but bootstrap.min.css set `[hidden] { display: none !important; }` so we also need the `!important` here to be able to override the default hidden behavior on the sphinx rendered scikit-learn.org. See: https://github.com/scikit-learn/scikit-learn/issues/21755 */display: inline-block !important;position: relative;}#sk-container-id-1 div.sk-text-repr-fallback {display: none;}</style><div id=\"sk-container-id-1\" class=\"sk-top-container\"><div class=\"sk-text-repr-fallback\"><pre>LinearRegression()</pre><b>In a Jupyter environment, please rerun this cell to show the HTML representation or trust the notebook. <br />On GitHub, the HTML representation is unable to render, please try loading this page with nbviewer.org.</b></div><div class=\"sk-container\" hidden><div class=\"sk-item\"><div class=\"sk-estimator sk-toggleable\"><input class=\"sk-toggleable__control sk-hidden--visually\" id=\"sk-estimator-id-1\" type=\"checkbox\" checked><label for=\"sk-estimator-id-1\" class=\"sk-toggleable__label sk-toggleable__label-arrow\">LinearRegression</label><div class=\"sk-toggleable__content\"><pre>LinearRegression()</pre></div></div></div></div></div>"
      ],
      "text/plain": [
       "LinearRegression()"
      ]
     },
     "execution_count": 8,
     "metadata": {},
     "output_type": "execute_result"
    }
   ],
   "source": [
    "multilinear_model = linear_model.LinearRegression()\n",
    "multilinear_model.fit(X_train, y_train)"
   ]
  },
  {
   "cell_type": "markdown",
   "metadata": {},
   "source": [
    "### Ridge Regression"
   ]
  },
  {
   "cell_type": "code",
   "execution_count": 9,
   "metadata": {},
   "outputs": [
    {
     "data": {
      "text/html": [
       "<style>#sk-container-id-2 {color: black;background-color: white;}#sk-container-id-2 pre{padding: 0;}#sk-container-id-2 div.sk-toggleable {background-color: white;}#sk-container-id-2 label.sk-toggleable__label {cursor: pointer;display: block;width: 100%;margin-bottom: 0;padding: 0.3em;box-sizing: border-box;text-align: center;}#sk-container-id-2 label.sk-toggleable__label-arrow:before {content: \"▸\";float: left;margin-right: 0.25em;color: #696969;}#sk-container-id-2 label.sk-toggleable__label-arrow:hover:before {color: black;}#sk-container-id-2 div.sk-estimator:hover label.sk-toggleable__label-arrow:before {color: black;}#sk-container-id-2 div.sk-toggleable__content {max-height: 0;max-width: 0;overflow: hidden;text-align: left;background-color: #f0f8ff;}#sk-container-id-2 div.sk-toggleable__content pre {margin: 0.2em;color: black;border-radius: 0.25em;background-color: #f0f8ff;}#sk-container-id-2 input.sk-toggleable__control:checked~div.sk-toggleable__content {max-height: 200px;max-width: 100%;overflow: auto;}#sk-container-id-2 input.sk-toggleable__control:checked~label.sk-toggleable__label-arrow:before {content: \"▾\";}#sk-container-id-2 div.sk-estimator input.sk-toggleable__control:checked~label.sk-toggleable__label {background-color: #d4ebff;}#sk-container-id-2 div.sk-label input.sk-toggleable__control:checked~label.sk-toggleable__label {background-color: #d4ebff;}#sk-container-id-2 input.sk-hidden--visually {border: 0;clip: rect(1px 1px 1px 1px);clip: rect(1px, 1px, 1px, 1px);height: 1px;margin: -1px;overflow: hidden;padding: 0;position: absolute;width: 1px;}#sk-container-id-2 div.sk-estimator {font-family: monospace;background-color: #f0f8ff;border: 1px dotted black;border-radius: 0.25em;box-sizing: border-box;margin-bottom: 0.5em;}#sk-container-id-2 div.sk-estimator:hover {background-color: #d4ebff;}#sk-container-id-2 div.sk-parallel-item::after {content: \"\";width: 100%;border-bottom: 1px solid gray;flex-grow: 1;}#sk-container-id-2 div.sk-label:hover label.sk-toggleable__label {background-color: #d4ebff;}#sk-container-id-2 div.sk-serial::before {content: \"\";position: absolute;border-left: 1px solid gray;box-sizing: border-box;top: 0;bottom: 0;left: 50%;z-index: 0;}#sk-container-id-2 div.sk-serial {display: flex;flex-direction: column;align-items: center;background-color: white;padding-right: 0.2em;padding-left: 0.2em;position: relative;}#sk-container-id-2 div.sk-item {position: relative;z-index: 1;}#sk-container-id-2 div.sk-parallel {display: flex;align-items: stretch;justify-content: center;background-color: white;position: relative;}#sk-container-id-2 div.sk-item::before, #sk-container-id-2 div.sk-parallel-item::before {content: \"\";position: absolute;border-left: 1px solid gray;box-sizing: border-box;top: 0;bottom: 0;left: 50%;z-index: -1;}#sk-container-id-2 div.sk-parallel-item {display: flex;flex-direction: column;z-index: 1;position: relative;background-color: white;}#sk-container-id-2 div.sk-parallel-item:first-child::after {align-self: flex-end;width: 50%;}#sk-container-id-2 div.sk-parallel-item:last-child::after {align-self: flex-start;width: 50%;}#sk-container-id-2 div.sk-parallel-item:only-child::after {width: 0;}#sk-container-id-2 div.sk-dashed-wrapped {border: 1px dashed gray;margin: 0 0.4em 0.5em 0.4em;box-sizing: border-box;padding-bottom: 0.4em;background-color: white;}#sk-container-id-2 div.sk-label label {font-family: monospace;font-weight: bold;display: inline-block;line-height: 1.2em;}#sk-container-id-2 div.sk-label-container {text-align: center;}#sk-container-id-2 div.sk-container {/* jupyter's `normalize.less` sets `[hidden] { display: none; }` but bootstrap.min.css set `[hidden] { display: none !important; }` so we also need the `!important` here to be able to override the default hidden behavior on the sphinx rendered scikit-learn.org. See: https://github.com/scikit-learn/scikit-learn/issues/21755 */display: inline-block !important;position: relative;}#sk-container-id-2 div.sk-text-repr-fallback {display: none;}</style><div id=\"sk-container-id-2\" class=\"sk-top-container\"><div class=\"sk-text-repr-fallback\"><pre>Ridge()</pre><b>In a Jupyter environment, please rerun this cell to show the HTML representation or trust the notebook. <br />On GitHub, the HTML representation is unable to render, please try loading this page with nbviewer.org.</b></div><div class=\"sk-container\" hidden><div class=\"sk-item\"><div class=\"sk-estimator sk-toggleable\"><input class=\"sk-toggleable__control sk-hidden--visually\" id=\"sk-estimator-id-2\" type=\"checkbox\" checked><label for=\"sk-estimator-id-2\" class=\"sk-toggleable__label sk-toggleable__label-arrow\">Ridge</label><div class=\"sk-toggleable__content\"><pre>Ridge()</pre></div></div></div></div></div>"
      ],
      "text/plain": [
       "Ridge()"
      ]
     },
     "execution_count": 9,
     "metadata": {},
     "output_type": "execute_result"
    }
   ],
   "source": [
    "ridge_model = linear_model.Ridge()\n",
    "ridge_model.fit(X_train, y_train)"
   ]
  },
  {
   "attachments": {},
   "cell_type": "markdown",
   "metadata": {},
   "source": [
    "### Lasso Regression"
   ]
  },
  {
   "cell_type": "code",
   "execution_count": 10,
   "metadata": {},
   "outputs": [
    {
     "name": "stderr",
     "output_type": "stream",
     "text": [
      "c:\\Users\\frase\\AppData\\Local\\Programs\\Python\\Python39\\lib\\site-packages\\sklearn\\linear_model\\_coordinate_descent.py:631: ConvergenceWarning: Objective did not converge. You might want to increase the number of iterations, check the scale of the features or consider increasing regularisation. Duality gap: 1.335e+04, tolerance: 3.095e+02\n",
      "  model = cd_fast.enet_coordinate_descent(\n",
      "c:\\Users\\frase\\AppData\\Local\\Programs\\Python\\Python39\\lib\\site-packages\\sklearn\\linear_model\\_coordinate_descent.py:631: ConvergenceWarning: Objective did not converge. You might want to increase the number of iterations, check the scale of the features or consider increasing regularisation. Duality gap: 7.345e+03, tolerance: 2.266e+02\n",
      "  model = cd_fast.enet_coordinate_descent(\n"
     ]
    },
    {
     "data": {
      "text/html": [
       "<style>#sk-container-id-3 {color: black;background-color: white;}#sk-container-id-3 pre{padding: 0;}#sk-container-id-3 div.sk-toggleable {background-color: white;}#sk-container-id-3 label.sk-toggleable__label {cursor: pointer;display: block;width: 100%;margin-bottom: 0;padding: 0.3em;box-sizing: border-box;text-align: center;}#sk-container-id-3 label.sk-toggleable__label-arrow:before {content: \"▸\";float: left;margin-right: 0.25em;color: #696969;}#sk-container-id-3 label.sk-toggleable__label-arrow:hover:before {color: black;}#sk-container-id-3 div.sk-estimator:hover label.sk-toggleable__label-arrow:before {color: black;}#sk-container-id-3 div.sk-toggleable__content {max-height: 0;max-width: 0;overflow: hidden;text-align: left;background-color: #f0f8ff;}#sk-container-id-3 div.sk-toggleable__content pre {margin: 0.2em;color: black;border-radius: 0.25em;background-color: #f0f8ff;}#sk-container-id-3 input.sk-toggleable__control:checked~div.sk-toggleable__content {max-height: 200px;max-width: 100%;overflow: auto;}#sk-container-id-3 input.sk-toggleable__control:checked~label.sk-toggleable__label-arrow:before {content: \"▾\";}#sk-container-id-3 div.sk-estimator input.sk-toggleable__control:checked~label.sk-toggleable__label {background-color: #d4ebff;}#sk-container-id-3 div.sk-label input.sk-toggleable__control:checked~label.sk-toggleable__label {background-color: #d4ebff;}#sk-container-id-3 input.sk-hidden--visually {border: 0;clip: rect(1px 1px 1px 1px);clip: rect(1px, 1px, 1px, 1px);height: 1px;margin: -1px;overflow: hidden;padding: 0;position: absolute;width: 1px;}#sk-container-id-3 div.sk-estimator {font-family: monospace;background-color: #f0f8ff;border: 1px dotted black;border-radius: 0.25em;box-sizing: border-box;margin-bottom: 0.5em;}#sk-container-id-3 div.sk-estimator:hover {background-color: #d4ebff;}#sk-container-id-3 div.sk-parallel-item::after {content: \"\";width: 100%;border-bottom: 1px solid gray;flex-grow: 1;}#sk-container-id-3 div.sk-label:hover label.sk-toggleable__label {background-color: #d4ebff;}#sk-container-id-3 div.sk-serial::before {content: \"\";position: absolute;border-left: 1px solid gray;box-sizing: border-box;top: 0;bottom: 0;left: 50%;z-index: 0;}#sk-container-id-3 div.sk-serial {display: flex;flex-direction: column;align-items: center;background-color: white;padding-right: 0.2em;padding-left: 0.2em;position: relative;}#sk-container-id-3 div.sk-item {position: relative;z-index: 1;}#sk-container-id-3 div.sk-parallel {display: flex;align-items: stretch;justify-content: center;background-color: white;position: relative;}#sk-container-id-3 div.sk-item::before, #sk-container-id-3 div.sk-parallel-item::before {content: \"\";position: absolute;border-left: 1px solid gray;box-sizing: border-box;top: 0;bottom: 0;left: 50%;z-index: -1;}#sk-container-id-3 div.sk-parallel-item {display: flex;flex-direction: column;z-index: 1;position: relative;background-color: white;}#sk-container-id-3 div.sk-parallel-item:first-child::after {align-self: flex-end;width: 50%;}#sk-container-id-3 div.sk-parallel-item:last-child::after {align-self: flex-start;width: 50%;}#sk-container-id-3 div.sk-parallel-item:only-child::after {width: 0;}#sk-container-id-3 div.sk-dashed-wrapped {border: 1px dashed gray;margin: 0 0.4em 0.5em 0.4em;box-sizing: border-box;padding-bottom: 0.4em;background-color: white;}#sk-container-id-3 div.sk-label label {font-family: monospace;font-weight: bold;display: inline-block;line-height: 1.2em;}#sk-container-id-3 div.sk-label-container {text-align: center;}#sk-container-id-3 div.sk-container {/* jupyter's `normalize.less` sets `[hidden] { display: none; }` but bootstrap.min.css set `[hidden] { display: none !important; }` so we also need the `!important` here to be able to override the default hidden behavior on the sphinx rendered scikit-learn.org. See: https://github.com/scikit-learn/scikit-learn/issues/21755 */display: inline-block !important;position: relative;}#sk-container-id-3 div.sk-text-repr-fallback {display: none;}</style><div id=\"sk-container-id-3\" class=\"sk-top-container\"><div class=\"sk-text-repr-fallback\"><pre>Lasso()</pre><b>In a Jupyter environment, please rerun this cell to show the HTML representation or trust the notebook. <br />On GitHub, the HTML representation is unable to render, please try loading this page with nbviewer.org.</b></div><div class=\"sk-container\" hidden><div class=\"sk-item\"><div class=\"sk-estimator sk-toggleable\"><input class=\"sk-toggleable__control sk-hidden--visually\" id=\"sk-estimator-id-3\" type=\"checkbox\" checked><label for=\"sk-estimator-id-3\" class=\"sk-toggleable__label sk-toggleable__label-arrow\">Lasso</label><div class=\"sk-toggleable__content\"><pre>Lasso()</pre></div></div></div></div></div>"
      ],
      "text/plain": [
       "Lasso()"
      ]
     },
     "execution_count": 10,
     "metadata": {},
     "output_type": "execute_result"
    }
   ],
   "source": [
    "lasso_model = linear_model.Lasso()\n",
    "lasso_model.fit(X_train, y_train)"
   ]
  },
  {
   "attachments": {},
   "cell_type": "markdown",
   "metadata": {},
   "source": [
    "### Polynomial Regression"
   ]
  },
  {
   "cell_type": "code",
   "execution_count": 10,
   "metadata": {},
   "outputs": [],
   "source": [
    "poly = PolynomialFeatures(degree=2, include_bias=False)\n",
    "poly_features = poly.fit_transform(X_train.values)\n",
    "\n",
    "poly_model = linear_model.LinearRegression()\n",
    "poly_model.fit(poly_features, y_train)"
   ]
  },
  {
   "cell_type": "code",
   "execution_count": null,
   "metadata": {},
   "outputs": [],
   "source": [
    "print(poly_features)"
   ]
  },
  {
   "attachments": {},
   "cell_type": "markdown",
   "metadata": {},
   "source": [
    "### Bayesian Regression"
   ]
  },
  {
   "cell_type": "code",
   "execution_count": 29,
   "metadata": {},
   "outputs": [],
   "source": [
    "bayesian_model = []\n",
    "bayesian_model = [linear_model.BayesianRidge() for i in range(len(y_variables))]\n",
    "\n",
    "for i in range(len(y_variables)):\n",
    "    bayesian_model[i].fit(X_train, y_train[y_variables[i]])"
   ]
  },
  {
   "attachments": {},
   "cell_type": "markdown",
   "metadata": {},
   "source": [
    "### Gaussian Regression"
   ]
  },
  {
   "cell_type": "code",
   "execution_count": 49,
   "metadata": {},
   "outputs": [],
   "source": [
    "kernel = RBF()\n",
    "\n",
    "gaussian_model = []\n",
    "gaussian_model = [GaussianProcessRegressor(kernel=kernel) for i in range(len(y_variables))]\n",
    "\n",
    "for i in range(len(y_variables)):\n",
    "    bayesian_model[i].fit(X_train, y_train[y_variables[i]])"
   ]
  },
  {
   "attachments": {},
   "cell_type": "markdown",
   "metadata": {},
   "source": [
    "### Support Vector Regression"
   ]
  },
  {
   "cell_type": "code",
   "execution_count": null,
   "metadata": {},
   "outputs": [],
   "source": []
  },
  {
   "attachments": {},
   "cell_type": "markdown",
   "metadata": {},
   "source": [
    "---"
   ]
  },
  {
   "attachments": {},
   "cell_type": "markdown",
   "metadata": {},
   "source": [
    "## Evaluating"
   ]
  },
  {
   "attachments": {},
   "cell_type": "markdown",
   "metadata": {},
   "source": [
    "### Multilinear Regression"
   ]
  },
  {
   "attachments": {},
   "cell_type": "markdown",
   "metadata": {},
   "source": [
    "Predict outputs of the testing split and determine mean squared and mean absolute errors."
   ]
  },
  {
   "cell_type": "code",
   "execution_count": 15,
   "metadata": {},
   "outputs": [
    {
     "name": "stdout",
     "output_type": "stream",
     "text": [
      "mean_squared_error :  43.385313427133305\n",
      "mean_absolute_error :  3.5946233031205463\n"
     ]
    }
   ],
   "source": [
    "multilinear_predictions = multilinear_model.predict(X_test)\n",
    "\n",
    "print('mean_squared_error : ', mean_squared_error(y_test, multilinear_predictions))\n",
    "print('mean_absolute_error : ', mean_absolute_error(y_test, multilinear_predictions))"
   ]
  },
  {
   "cell_type": "code",
   "execution_count": null,
   "metadata": {},
   "outputs": [],
   "source": [
    "i = 2341\n",
    "\n",
    "print(\"Actual:    \" + str(y_test.iloc[i].values))\n",
    "print(\"Predicted: \" + str(multilinear_predictions[i]))"
   ]
  },
  {
   "attachments": {},
   "cell_type": "markdown",
   "metadata": {},
   "source": [
    "### Ridge Regression"
   ]
  },
  {
   "cell_type": "code",
   "execution_count": 16,
   "metadata": {},
   "outputs": [
    {
     "name": "stdout",
     "output_type": "stream",
     "text": [
      "mean_squared_error :  43.25735661472114\n",
      "mean_absolute_error :  3.5974812170953823\n"
     ]
    }
   ],
   "source": [
    "ridge_predictions = ridge_model.predict(X_test)\n",
    "\n",
    "print('mean_squared_error : ', mean_squared_error(y_test, ridge_predictions))\n",
    "print('mean_absolute_error : ', mean_absolute_error(y_test, ridge_predictions))"
   ]
  },
  {
   "attachments": {},
   "cell_type": "markdown",
   "metadata": {},
   "source": [
    "### Lasso Regression"
   ]
  },
  {
   "cell_type": "code",
   "execution_count": 17,
   "metadata": {},
   "outputs": [
    {
     "name": "stdout",
     "output_type": "stream",
     "text": [
      "mean_squared_error :  63.16263601347481\n",
      "mean_absolute_error :  4.36555379872854\n"
     ]
    }
   ],
   "source": [
    "lasso_predictions = lasso_model.predict(X_test)\n",
    "\n",
    "print('mean_squared_error : ', mean_squared_error(y_test, lasso_predictions))\n",
    "print('mean_absolute_error : ', mean_absolute_error(y_test, lasso_predictions))"
   ]
  },
  {
   "attachments": {},
   "cell_type": "markdown",
   "metadata": {},
   "source": [
    "### Polynomial Regression"
   ]
  },
  {
   "attachments": {},
   "cell_type": "markdown",
   "metadata": {},
   "source": [
    "### Bayesian Regression"
   ]
  },
  {
   "cell_type": "code",
   "execution_count": 36,
   "metadata": {},
   "outputs": [
    {
     "name": "stdout",
     "output_type": "stream",
     "text": [
      "mean_squared_errors :  [174.70540447615963, 64.32983196345607, 22.608114043835577, 0.007483105411069927, 0.015270915414334826, 1.1324843130903621]\n",
      "mean_absolute_errors :  [11.091434685967984, 6.2501243924163585, 3.656565108966513, 0.07088285144724372, 0.09333767147060837, 0.6046466527538764]\n",
      "worst_mean_squared_error :  174.70540447615963\n",
      "worst_mean_absolute_error :  11.091434685967984\n"
     ]
    }
   ],
   "source": [
    "bayesian_predictions = []\n",
    "bayesian_predictions = [bayesian_model[i].predict(X_test) for i in range(len(bayesian_model))]\n",
    "\n",
    "mean_squared_errors = [0] * len(bayesian_predictions)\n",
    "mean_absolute_errors = [0] * len(bayesian_predictions)\n",
    "\n",
    "for i in range(len(bayesian_predictions)):\n",
    "    mean_squared_errors[i] = mean_squared_error(y_test[y_variables[i]], bayesian_predictions[i])\n",
    "    mean_absolute_errors[i] = mean_absolute_error(y_test[y_variables[i]], bayesian_predictions[i])\n",
    "\n",
    "print('mean_squared_errors : ', mean_squared_errors)\n",
    "print('mean_absolute_errors : ', mean_absolute_errors)\n",
    "\n",
    "print('worst_mean_squared_error : ', max(mean_squared_errors))\n",
    "print('worst_mean_absolute_error : ', max(mean_absolute_errors))"
   ]
  },
  {
   "attachments": {},
   "cell_type": "markdown",
   "metadata": {},
   "source": [
    "### Gaussian Regression"
   ]
  },
  {
   "cell_type": "code",
   "execution_count": 50,
   "metadata": {},
   "outputs": [
    {
     "name": "stdout",
     "output_type": "stream",
     "text": [
      "mean_squared_errors :  [2037.825542655617, 298.36466432742714, 96.98200478024835, 0.010264234077006142, 0.04115380083531885, 3.326177908224425]\n",
      "mean_absolute_errors :  [40.357642735481264, 13.363598386759124, 7.677266850466887, 0.08751113504250783, 0.17583206218304695, 1.5824390139432392]\n",
      "worst_mean_squared_error :  2037.825542655617\n",
      "worst_mean_absolute_error :  40.357642735481264\n"
     ]
    },
    {
     "name": "stderr",
     "output_type": "stream",
     "text": [
      "c:\\Users\\frase\\AppData\\Local\\Programs\\Python\\Python39\\lib\\site-packages\\sklearn\\base.py:432: UserWarning: X has feature names, but GaussianProcessRegressor was fitted without feature names\n",
      "  warnings.warn(\n",
      "c:\\Users\\frase\\AppData\\Local\\Programs\\Python\\Python39\\lib\\site-packages\\sklearn\\base.py:432: UserWarning: X has feature names, but GaussianProcessRegressor was fitted without feature names\n",
      "  warnings.warn(\n",
      "c:\\Users\\frase\\AppData\\Local\\Programs\\Python\\Python39\\lib\\site-packages\\sklearn\\base.py:432: UserWarning: X has feature names, but GaussianProcessRegressor was fitted without feature names\n",
      "  warnings.warn(\n",
      "c:\\Users\\frase\\AppData\\Local\\Programs\\Python\\Python39\\lib\\site-packages\\sklearn\\base.py:432: UserWarning: X has feature names, but GaussianProcessRegressor was fitted without feature names\n",
      "  warnings.warn(\n",
      "c:\\Users\\frase\\AppData\\Local\\Programs\\Python\\Python39\\lib\\site-packages\\sklearn\\base.py:432: UserWarning: X has feature names, but GaussianProcessRegressor was fitted without feature names\n",
      "  warnings.warn(\n",
      "c:\\Users\\frase\\AppData\\Local\\Programs\\Python\\Python39\\lib\\site-packages\\sklearn\\base.py:432: UserWarning: X has feature names, but GaussianProcessRegressor was fitted without feature names\n",
      "  warnings.warn(\n"
     ]
    }
   ],
   "source": [
    "gaussian_predictions = []\n",
    "gaussian_predictions = [gaussian_model[i].predict(X_test) for i in range(len(gaussian_model))]\n",
    "\n",
    "mean_squared_errors = [0] * len(gaussian_predictions)\n",
    "mean_absolute_errors = [0] * len(gaussian_predictions)\n",
    "\n",
    "for i in range(len(gaussian_predictions)):\n",
    "    mean_squared_errors[i] = mean_squared_error(y_test[y_variables[i]], gaussian_predictions[i])\n",
    "    mean_absolute_errors[i] = mean_absolute_error(y_test[y_variables[i]], gaussian_predictions[i])\n",
    "\n",
    "print('mean_squared_errors : ', mean_squared_errors)\n",
    "print('mean_absolute_errors : ', mean_absolute_errors)\n",
    "\n",
    "print('worst_mean_squared_error : ', max(mean_squared_errors))\n",
    "print('worst_mean_absolute_error : ', max(mean_absolute_errors))"
   ]
  },
  {
   "attachments": {},
   "cell_type": "markdown",
   "metadata": {},
   "source": [
    "---"
   ]
  },
  {
   "attachments": {},
   "cell_type": "markdown",
   "metadata": {},
   "source": [
    "## Tuning"
   ]
  },
  {
   "attachments": {},
   "cell_type": "markdown",
   "metadata": {},
   "source": [
    "### Ridge Regression"
   ]
  },
  {
   "cell_type": "code",
   "execution_count": null,
   "metadata": {},
   "outputs": [],
   "source": [
    "cv = RepeatedKFold(n_splits=10, n_repeats=3, random_state=1)\n",
    "\n",
    "grid = dict()\n",
    "grid['alpha'] = np.arange(0, 1, 0.01)\n",
    "\n",
    "search = GridSearchCV(ridge_model, grid, scoring='neg_mean_absolute_error', cv=cv, n_jobs=-1)\n",
    "\n",
    "results = search.fit(X_train, y_train)\n",
    "\n",
    "print('MAE: %.3f' % results.best_score_)\n",
    "print('Config: %s' % results.best_params_)"
   ]
  }
 ],
 "metadata": {
  "kernelspec": {
   "display_name": "Python 3",
   "language": "python",
   "name": "python3"
  },
  "language_info": {
   "codemirror_mode": {
    "name": "ipython",
    "version": 3
   },
   "file_extension": ".py",
   "mimetype": "text/x-python",
   "name": "python",
   "nbconvert_exporter": "python",
   "pygments_lexer": "ipython3",
   "version": "3.9.7"
  },
  "orig_nbformat": 4
 },
 "nbformat": 4,
 "nbformat_minor": 2
}
