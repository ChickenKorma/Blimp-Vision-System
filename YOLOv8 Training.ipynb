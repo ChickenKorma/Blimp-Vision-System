{
 "cells": [
  {
   "attachments": {},
   "cell_type": "markdown",
   "metadata": {},
   "source": [
    "### Imports"
   ]
  },
  {
   "cell_type": "code",
   "execution_count": 29,
   "metadata": {},
   "outputs": [],
   "source": [
    "from ultralytics import YOLO\n",
    "import cv2\n",
    "import numpy as np\n",
    "\n",
    "import matplotlib\n",
    "matplotlib.use('Qt5Agg')\n",
    "import matplotlib.pyplot as plt"
   ]
  },
  {
   "attachments": {},
   "cell_type": "markdown",
   "metadata": {},
   "source": [
    "### Loading Models"
   ]
  },
  {
   "cell_type": "code",
   "execution_count": 8,
   "metadata": {},
   "outputs": [],
   "source": [
    "#model = YOLO(\"yolov8n.yaml\") # blank with pretrained weights\n",
    "model = YOLO(\"D:/Uni Stuff/IP/Coding/Repository/Blimp-Vision-System/runs/detect/train4/weights/best.pt\")  # pretrained model"
   ]
  },
  {
   "attachments": {},
   "cell_type": "markdown",
   "metadata": {},
   "source": [
    "### Training Models"
   ]
  },
  {
   "cell_type": "code",
   "execution_count": null,
   "metadata": {},
   "outputs": [],
   "source": [
    "model.train(data=\"blimps.yaml\", epochs=100, imgsz=640)"
   ]
  },
  {
   "attachments": {},
   "cell_type": "markdown",
   "metadata": {},
   "source": [
    "### Predicting"
   ]
  },
  {
   "cell_type": "code",
   "execution_count": 19,
   "metadata": {},
   "outputs": [
    {
     "name": "stderr",
     "output_type": "stream",
     "text": [
      "\n",
      "image 1/108 D:\\Uni Stuff\\IP\\Data\\RoboFlow\\train\\images\\image_0_png.rf.0d6ee31e56db8f1eb2d81aca93311ba2.jpg: 640x640 1 blimp, 95.0ms\n",
      "image 2/108 D:\\Uni Stuff\\IP\\Data\\RoboFlow\\train\\images\\image_0_png.rf.2f7c43b1774a8deb73b44fa161171141.jpg: 640x640 1 blimp, 95.0ms\n",
      "image 3/108 D:\\Uni Stuff\\IP\\Data\\RoboFlow\\train\\images\\image_0_png.rf.64a6da22e0027017126a727b32e33dad.jpg: 640x640 1 blimp, 102.0ms\n",
      "image 4/108 D:\\Uni Stuff\\IP\\Data\\RoboFlow\\train\\images\\image_10_png.rf.1fe0df75cc924bdf9be09de9e1f76a47.jpg: 640x640 (no detections), 105.0ms\n",
      "image 5/108 D:\\Uni Stuff\\IP\\Data\\RoboFlow\\train\\images\\image_10_png.rf.dc2ad6bbe37a7ebb58440cebd85d7a03.jpg: 640x640 (no detections), 99.0ms\n",
      "image 6/108 D:\\Uni Stuff\\IP\\Data\\RoboFlow\\train\\images\\image_11_png.rf.13261fb72469e01025559cc8566ab90c.jpg: 640x640 1 blimp, 99.0ms\n",
      "image 7/108 D:\\Uni Stuff\\IP\\Data\\RoboFlow\\train\\images\\image_11_png.rf.963c3d0157297671dee010e0eece735e.jpg: 640x640 1 blimp, 102.0ms\n",
      "image 8/108 D:\\Uni Stuff\\IP\\Data\\RoboFlow\\train\\images\\image_13_png.rf.bb9df9de7f554dd7f4bcadf4a6f25e6a.jpg: 640x640 2 blimps, 104.0ms\n",
      "image 9/108 D:\\Uni Stuff\\IP\\Data\\RoboFlow\\train\\images\\image_13_png.rf.c3a0ec2b31669d1662d963dcb6cee574.jpg: 640x640 1 blimp, 98.0ms\n",
      "image 10/108 D:\\Uni Stuff\\IP\\Data\\RoboFlow\\train\\images\\image_13_png.rf.ed933b63e3bc5816fe3fe4fb6312a6ef.jpg: 640x640 1 blimp, 106.0ms\n",
      "image 11/108 D:\\Uni Stuff\\IP\\Data\\RoboFlow\\train\\images\\image_14_png.rf.18593acd968b39730c8e647906c08082.jpg: 640x640 1 blimp, 102.0ms\n",
      "image 12/108 D:\\Uni Stuff\\IP\\Data\\RoboFlow\\train\\images\\image_14_png.rf.761a81c4c70716f1e30fc0746655c970.jpg: 640x640 1 blimp, 128.0ms\n",
      "image 13/108 D:\\Uni Stuff\\IP\\Data\\RoboFlow\\train\\images\\image_14_png.rf.cc602520a1196f866ef6feb3eec99beb.jpg: 640x640 1 blimp, 103.0ms\n",
      "image 14/108 D:\\Uni Stuff\\IP\\Data\\RoboFlow\\train\\images\\image_15_png.rf.3baaa75f4c68049324a2da64a536c8f5.jpg: 640x640 1 blimp, 101.0ms\n",
      "image 15/108 D:\\Uni Stuff\\IP\\Data\\RoboFlow\\train\\images\\image_15_png.rf.3cef4a08a5a1baa0478e40297750bc7c.jpg: 640x640 1 blimp, 97.0ms\n",
      "image 16/108 D:\\Uni Stuff\\IP\\Data\\RoboFlow\\train\\images\\image_16_png.rf.032f98101091b570346957a9c183352f.jpg: 640x640 1 blimp, 103.0ms\n",
      "image 17/108 D:\\Uni Stuff\\IP\\Data\\RoboFlow\\train\\images\\image_16_png.rf.8f8a7469923830c77f3aff00e38be8ab.jpg: 640x640 1 blimp, 101.0ms\n",
      "image 18/108 D:\\Uni Stuff\\IP\\Data\\RoboFlow\\train\\images\\image_16_png.rf.a96c8a318b6ef988419bd82a3bf173e3.jpg: 640x640 2 blimps, 104.0ms\n",
      "image 19/108 D:\\Uni Stuff\\IP\\Data\\RoboFlow\\train\\images\\image_17_png.rf.648c400423f47dee1f7c86b9ff6f29b5.jpg: 640x640 1 blimp, 103.0ms\n",
      "image 20/108 D:\\Uni Stuff\\IP\\Data\\RoboFlow\\train\\images\\image_17_png.rf.65b90070820a8b08f75774d114f5238e.jpg: 640x640 1 blimp, 101.0ms\n",
      "image 21/108 D:\\Uni Stuff\\IP\\Data\\RoboFlow\\train\\images\\image_17_png.rf.a5e6064deb9ab3766f23044d584390d3.jpg: 640x640 1 blimp, 97.0ms\n",
      "image 22/108 D:\\Uni Stuff\\IP\\Data\\RoboFlow\\train\\images\\image_18_png.rf.2b997076d70c5f9f66aa2f2b611619cb.jpg: 640x640 1 blimp, 98.0ms\n",
      "image 23/108 D:\\Uni Stuff\\IP\\Data\\RoboFlow\\train\\images\\image_18_png.rf.84bdd7f1df8dd9bedea7c82655c6ee10.jpg: 640x640 1 blimp, 96.0ms\n",
      "image 24/108 D:\\Uni Stuff\\IP\\Data\\RoboFlow\\train\\images\\image_18_png.rf.cef10d758f75e52b72efa3e3c93b1277.jpg: 640x640 1 blimp, 105.0ms\n",
      "image 25/108 D:\\Uni Stuff\\IP\\Data\\RoboFlow\\train\\images\\image_21_png.rf.5509a74d4d0efd2010bb9702c5c94768.jpg: 640x640 1 blimp, 98.0ms\n",
      "image 26/108 D:\\Uni Stuff\\IP\\Data\\RoboFlow\\train\\images\\image_21_png.rf.927328bbdd24d0b218f1332516d67887.jpg: 640x640 1 blimp, 99.0ms\n",
      "image 27/108 D:\\Uni Stuff\\IP\\Data\\RoboFlow\\train\\images\\image_21_png.rf.98d986e1f82a96f4876f1a8edc49e465.jpg: 640x640 1 blimp, 95.0ms\n",
      "image 28/108 D:\\Uni Stuff\\IP\\Data\\RoboFlow\\train\\images\\image_22_png.rf.2ecd3bdd133401bdcafe735087106b7d.jpg: 640x640 1 blimp, 97.0ms\n",
      "image 29/108 D:\\Uni Stuff\\IP\\Data\\RoboFlow\\train\\images\\image_22_png.rf.b78ff83d3a55dbc97214f38a6213c995.jpg: 640x640 1 blimp, 98.0ms\n",
      "image 30/108 D:\\Uni Stuff\\IP\\Data\\RoboFlow\\train\\images\\image_22_png.rf.deac9daa6d0bcc74e90e0202ab2cfd3a.jpg: 640x640 1 blimp, 104.0ms\n",
      "image 31/108 D:\\Uni Stuff\\IP\\Data\\RoboFlow\\train\\images\\image_23_png.rf.8bd29409fc41279d9439ed1753255d63.jpg: 640x640 2 blimps, 103.0ms\n",
      "image 32/108 D:\\Uni Stuff\\IP\\Data\\RoboFlow\\train\\images\\image_23_png.rf.a18a11459bf6db441eae53e4152b3a0c.jpg: 640x640 1 blimp, 105.0ms\n",
      "image 33/108 D:\\Uni Stuff\\IP\\Data\\RoboFlow\\train\\images\\image_23_png.rf.dcf6aac6c2cb97f2f38ec0b5150d767f.jpg: 640x640 1 blimp, 98.0ms\n",
      "image 34/108 D:\\Uni Stuff\\IP\\Data\\RoboFlow\\train\\images\\image_24_png.rf.36aca76a1ce333a30f51fb4d0a6ffb51.jpg: 640x640 1 blimp, 100.0ms\n",
      "image 35/108 D:\\Uni Stuff\\IP\\Data\\RoboFlow\\train\\images\\image_24_png.rf.db651bbdcc7602bdbabf7566350382b7.jpg: 640x640 1 blimp, 103.0ms\n",
      "image 36/108 D:\\Uni Stuff\\IP\\Data\\RoboFlow\\train\\images\\image_24_png.rf.f1e0efb68026f29db99e4e55fd0fb631.jpg: 640x640 2 blimps, 96.0ms\n",
      "image 37/108 D:\\Uni Stuff\\IP\\Data\\RoboFlow\\train\\images\\image_25_png.rf.0278cacb14224b4baf767cc917819cc4.jpg: 640x640 1 blimp, 97.0ms\n",
      "image 38/108 D:\\Uni Stuff\\IP\\Data\\RoboFlow\\train\\images\\image_25_png.rf.a4e6d880274939fd5b090c3e064aa202.jpg: 640x640 1 blimp, 97.0ms\n",
      "image 39/108 D:\\Uni Stuff\\IP\\Data\\RoboFlow\\train\\images\\image_25_png.rf.c201f629b0329aba8ff28c9b40536d01.jpg: 640x640 1 blimp, 100.0ms\n",
      "image 40/108 D:\\Uni Stuff\\IP\\Data\\RoboFlow\\train\\images\\image_26_png.rf.c3b791759e5c0f5f271ecbd0fe78dc56.jpg: 640x640 1 blimp, 112.0ms\n",
      "image 41/108 D:\\Uni Stuff\\IP\\Data\\RoboFlow\\train\\images\\image_26_png.rf.d93ab5f203abd3136a0313642a07ce93.jpg: 640x640 1 blimp, 99.0ms\n",
      "image 42/108 D:\\Uni Stuff\\IP\\Data\\RoboFlow\\train\\images\\image_27_png.rf.390eec037838243d3acb894af291374e.jpg: 640x640 1 blimp, 98.0ms\n",
      "image 43/108 D:\\Uni Stuff\\IP\\Data\\RoboFlow\\train\\images\\image_27_png.rf.8c105792e1e5e4f8df26bb0dd239fe06.jpg: 640x640 1 blimp, 99.0ms\n",
      "image 44/108 D:\\Uni Stuff\\IP\\Data\\RoboFlow\\train\\images\\image_2_png.rf.88fb1697891d90c6e835d9de900e9bcd.jpg: 640x640 1 blimp, 102.0ms\n",
      "image 45/108 D:\\Uni Stuff\\IP\\Data\\RoboFlow\\train\\images\\image_2_png.rf.ac13b0c29226583d5ab18956d8cab6e1.jpg: 640x640 1 blimp, 95.0ms\n",
      "image 46/108 D:\\Uni Stuff\\IP\\Data\\RoboFlow\\train\\images\\image_2_png.rf.ea23ccf5b459cbaa685e9dbed8d15d63.jpg: 640x640 1 blimp, 98.0ms\n",
      "image 47/108 D:\\Uni Stuff\\IP\\Data\\RoboFlow\\train\\images\\image_31_png.rf.03b4a5f13bde3f03e13cad044727bb22.jpg: 640x640 1 blimp, 98.0ms\n",
      "image 48/108 D:\\Uni Stuff\\IP\\Data\\RoboFlow\\train\\images\\image_31_png.rf.8cdcd4baa59f4a6e3ee79a1a547775d9.jpg: 640x640 1 blimp, 98.0ms\n",
      "image 49/108 D:\\Uni Stuff\\IP\\Data\\RoboFlow\\train\\images\\image_31_png.rf.b5685b326042679af0238e64026cf204.jpg: 640x640 1 blimp, 94.0ms\n",
      "image 50/108 D:\\Uni Stuff\\IP\\Data\\RoboFlow\\train\\images\\image_32_png.rf.291e1a08c46c676ac6d7932c7e5c4e68.jpg: 640x640 (no detections), 104.0ms\n",
      "image 51/108 D:\\Uni Stuff\\IP\\Data\\RoboFlow\\train\\images\\image_32_png.rf.a0a27e524c8b3a88c16f0a98a9e09a44.jpg: 640x640 (no detections), 135.0ms\n",
      "image 52/108 D:\\Uni Stuff\\IP\\Data\\RoboFlow\\train\\images\\image_33_png.rf.791e04b7754d37a154fe853094cc4006.jpg: 640x640 2 blimps, 101.0ms\n",
      "image 53/108 D:\\Uni Stuff\\IP\\Data\\RoboFlow\\train\\images\\image_33_png.rf.e491bfc1f8d1b8fa0243e2fee5bb2cb8.jpg: 640x640 1 blimp, 99.0ms\n",
      "image 54/108 D:\\Uni Stuff\\IP\\Data\\RoboFlow\\train\\images\\image_34_png.rf.0780718911539d2b8d757b2dcddd8e5a.jpg: 640x640 1 blimp, 96.0ms\n",
      "image 55/108 D:\\Uni Stuff\\IP\\Data\\RoboFlow\\train\\images\\image_34_png.rf.4758e276681f4949abce570d8ccb007e.jpg: 640x640 1 blimp, 95.0ms\n",
      "image 56/108 D:\\Uni Stuff\\IP\\Data\\RoboFlow\\train\\images\\image_34_png.rf.9ac98eab898d4f50915f9d1f2ce8fc06.jpg: 640x640 1 blimp, 100.0ms\n",
      "image 57/108 D:\\Uni Stuff\\IP\\Data\\RoboFlow\\train\\images\\image_35_png.rf.37f3a887ad7771ff47ab4ef89282a565.jpg: 640x640 1 blimp, 97.0ms\n",
      "image 58/108 D:\\Uni Stuff\\IP\\Data\\RoboFlow\\train\\images\\image_35_png.rf.7cd0c4a86287a4bfbc9985a4c7fd7198.jpg: 640x640 1 blimp, 95.0ms\n",
      "image 59/108 D:\\Uni Stuff\\IP\\Data\\RoboFlow\\train\\images\\image_35_png.rf.c0ab932fff214bbb3f01ef1e814fa45f.jpg: 640x640 1 blimp, 100.0ms\n",
      "image 60/108 D:\\Uni Stuff\\IP\\Data\\RoboFlow\\train\\images\\image_36_png.rf.39b1ae964b62287a77984e9dee49184a.jpg: 640x640 (no detections), 105.0ms\n",
      "image 61/108 D:\\Uni Stuff\\IP\\Data\\RoboFlow\\train\\images\\image_36_png.rf.8ca56423c293e41308b5a6b21235c6f6.jpg: 640x640 (no detections), 106.0ms\n",
      "image 62/108 D:\\Uni Stuff\\IP\\Data\\RoboFlow\\train\\images\\image_37_png.rf.67256f90eab79eb118f5d7732af58554.jpg: 640x640 1 blimp, 97.0ms\n",
      "image 63/108 D:\\Uni Stuff\\IP\\Data\\RoboFlow\\train\\images\\image_37_png.rf.6df9f27c561414fb2add7ab1085f2009.jpg: 640x640 1 blimp, 94.0ms\n",
      "image 64/108 D:\\Uni Stuff\\IP\\Data\\RoboFlow\\train\\images\\image_37_png.rf.b09d91ebe7021c1e95674420b2d03ee4.jpg: 640x640 1 blimp, 97.0ms\n",
      "image 65/108 D:\\Uni Stuff\\IP\\Data\\RoboFlow\\train\\images\\image_38_png.rf.02309367a8e8e2432abc5561bc1298b3.jpg: 640x640 (no detections), 99.0ms\n",
      "image 66/108 D:\\Uni Stuff\\IP\\Data\\RoboFlow\\train\\images\\image_38_png.rf.eab13ebc6e97d0ff04fc1e3187b69be7.jpg: 640x640 (no detections), 97.0ms\n",
      "image 67/108 D:\\Uni Stuff\\IP\\Data\\RoboFlow\\train\\images\\image_38_png.rf.ece1a3ab7311ca3c340c9660bfa6802e.jpg: 640x640 (no detections), 101.0ms\n",
      "image 68/108 D:\\Uni Stuff\\IP\\Data\\RoboFlow\\train\\images\\image_39_png.rf.941fe770009efff3cfafd2438c9297d8.jpg: 640x640 (no detections), 95.0ms\n",
      "image 69/108 D:\\Uni Stuff\\IP\\Data\\RoboFlow\\train\\images\\image_39_png.rf.f6515b9b663ac7f26ec0c7121ba78e8c.jpg: 640x640 (no detections), 96.0ms\n",
      "image 70/108 D:\\Uni Stuff\\IP\\Data\\RoboFlow\\train\\images\\image_39_png.rf.fed3ce08e65ab8f28131b2685ce7b7d6.jpg: 640x640 (no detections), 97.0ms\n",
      "image 71/108 D:\\Uni Stuff\\IP\\Data\\RoboFlow\\train\\images\\image_3_png.rf.4bb0c128d5c9cd91cf9e9291d6fc5748.jpg: 640x640 1 blimp, 104.0ms\n",
      "image 72/108 D:\\Uni Stuff\\IP\\Data\\RoboFlow\\train\\images\\image_3_png.rf.9911cf88a293547a107fd5e014541939.jpg: 640x640 1 blimp, 104.0ms\n",
      "image 73/108 D:\\Uni Stuff\\IP\\Data\\RoboFlow\\train\\images\\image_3_png.rf.eb1578f3ced42898c83e7d670eaf883c.jpg: 640x640 1 blimp, 94.0ms\n",
      "image 74/108 D:\\Uni Stuff\\IP\\Data\\RoboFlow\\train\\images\\image_41_png.rf.0bd97928700e4df5a809ec2655c1363c.jpg: 640x640 1 blimp, 102.0ms\n",
      "image 75/108 D:\\Uni Stuff\\IP\\Data\\RoboFlow\\train\\images\\image_41_png.rf.626faca36e8cd339d4323ea856712470.jpg: 640x640 1 blimp, 98.0ms\n",
      "image 76/108 D:\\Uni Stuff\\IP\\Data\\RoboFlow\\train\\images\\image_41_png.rf.f00f3c2ab88f5cd8b1877b5699c8af53.jpg: 640x640 1 blimp, 102.0ms\n",
      "image 77/108 D:\\Uni Stuff\\IP\\Data\\RoboFlow\\train\\images\\image_42_png.rf.978d39729fd87b0c50981c434f9a81fa.jpg: 640x640 1 blimp, 99.0ms\n",
      "image 78/108 D:\\Uni Stuff\\IP\\Data\\RoboFlow\\train\\images\\image_43_png.rf.34252e5a31c7231494820140f7fb2072.jpg: 640x640 (no detections), 97.0ms\n",
      "image 79/108 D:\\Uni Stuff\\IP\\Data\\RoboFlow\\train\\images\\image_43_png.rf.78605c4aa1b88cd130c74bfce5cb1d0c.jpg: 640x640 (no detections), 97.0ms\n",
      "image 80/108 D:\\Uni Stuff\\IP\\Data\\RoboFlow\\train\\images\\image_43_png.rf.858f4b7585e31f081336596eb55bca7a.jpg: 640x640 (no detections), 100.0ms\n",
      "image 81/108 D:\\Uni Stuff\\IP\\Data\\RoboFlow\\train\\images\\image_44_png.rf.1a0a1c1140b980c1c0030bc672689332.jpg: 640x640 (no detections), 93.0ms\n",
      "image 82/108 D:\\Uni Stuff\\IP\\Data\\RoboFlow\\train\\images\\image_44_png.rf.cab325f8a3a24587875d3db0b429439d.jpg: 640x640 (no detections), 98.0ms\n",
      "image 83/108 D:\\Uni Stuff\\IP\\Data\\RoboFlow\\train\\images\\image_44_png.rf.eb093abc76aa8920b674cd8582168274.jpg: 640x640 (no detections), 97.0ms\n",
      "image 84/108 D:\\Uni Stuff\\IP\\Data\\RoboFlow\\train\\images\\image_45_png.rf.591d24c4d22bdb82243776f1535d311d.jpg: 640x640 1 blimp, 96.0ms\n",
      "image 85/108 D:\\Uni Stuff\\IP\\Data\\RoboFlow\\train\\images\\image_45_png.rf.685127d97d597c3b5ded67cbe9a24f3b.jpg: 640x640 1 blimp, 101.0ms\n",
      "image 86/108 D:\\Uni Stuff\\IP\\Data\\RoboFlow\\train\\images\\image_47_png.rf.243cf7244c86b099bb886fd1b9358d7b.jpg: 640x640 1 blimp, 103.0ms\n",
      "image 87/108 D:\\Uni Stuff\\IP\\Data\\RoboFlow\\train\\images\\image_47_png.rf.2a8dad33eec14ac7097fd1ad17ff2237.jpg: 640x640 1 blimp, 95.0ms\n",
      "image 88/108 D:\\Uni Stuff\\IP\\Data\\RoboFlow\\train\\images\\image_47_png.rf.9e4bd0139470caed22b6b796821a6856.jpg: 640x640 1 blimp, 94.0ms\n",
      "image 89/108 D:\\Uni Stuff\\IP\\Data\\RoboFlow\\train\\images\\image_48_png.rf.5b0a574f25a99d3d9efba12fba3d6dec.jpg: 640x640 1 blimp, 101.0ms\n",
      "image 90/108 D:\\Uni Stuff\\IP\\Data\\RoboFlow\\train\\images\\image_48_png.rf.76c6f600e99f0f529ce6dfadc070de30.jpg: 640x640 1 blimp, 93.0ms\n",
      "image 91/108 D:\\Uni Stuff\\IP\\Data\\RoboFlow\\train\\images\\image_48_png.rf.fce0f5024fb9b308d9fe284b71cf6d7f.jpg: 640x640 1 blimp, 97.0ms\n",
      "image 92/108 D:\\Uni Stuff\\IP\\Data\\RoboFlow\\train\\images\\image_49_png.rf.0677df442ce6d313e81096d7c513cd58.jpg: 640x640 1 blimp, 100.0ms\n",
      "image 93/108 D:\\Uni Stuff\\IP\\Data\\RoboFlow\\train\\images\\image_49_png.rf.d8c2f9fffc3e7674f2d23d310c082aeb.jpg: 640x640 1 blimp, 100.0ms\n",
      "image 94/108 D:\\Uni Stuff\\IP\\Data\\RoboFlow\\train\\images\\image_4_png.rf.7d57d8d3465246fe9e34d1912e43c3cf.jpg: 640x640 1 blimp, 101.0ms\n",
      "image 95/108 D:\\Uni Stuff\\IP\\Data\\RoboFlow\\train\\images\\image_4_png.rf.9f9f26e07c7b6d7c935b6e2cb00cd3fa.jpg: 640x640 1 blimp, 96.0ms\n",
      "image 96/108 D:\\Uni Stuff\\IP\\Data\\RoboFlow\\train\\images\\image_4_png.rf.d5261d84597f9245c866b81902da0c53.jpg: 640x640 1 blimp, 96.0ms\n",
      "image 97/108 D:\\Uni Stuff\\IP\\Data\\RoboFlow\\train\\images\\image_6_png.rf.58339293a8a5897baa8b5726c733d34c.jpg: 640x640 1 blimp, 103.0ms\n",
      "image 98/108 D:\\Uni Stuff\\IP\\Data\\RoboFlow\\train\\images\\image_6_png.rf.80d45bbbfe18eadfc0dc0dda1cdde3b6.jpg: 640x640 1 blimp, 101.0ms\n",
      "image 99/108 D:\\Uni Stuff\\IP\\Data\\RoboFlow\\train\\images\\image_6_png.rf.b829efccb4ad8eb03405f282380cb4e2.jpg: 640x640 1 blimp, 94.0ms\n",
      "image 100/108 D:\\Uni Stuff\\IP\\Data\\RoboFlow\\train\\images\\image_7_png.rf.039315daec8fcd6a138a1ea98c81c834.jpg: 640x640 1 blimp, 97.0ms\n",
      "image 101/108 D:\\Uni Stuff\\IP\\Data\\RoboFlow\\train\\images\\image_7_png.rf.a6e31af1631606a9aaa33da5d1707e84.jpg: 640x640 1 blimp, 97.0ms\n",
      "image 102/108 D:\\Uni Stuff\\IP\\Data\\RoboFlow\\train\\images\\image_7_png.rf.be3b6c098b5e148da2f1371e8ec417fc.jpg: 640x640 1 blimp, 96.0ms\n",
      "image 103/108 D:\\Uni Stuff\\IP\\Data\\RoboFlow\\train\\images\\image_8_png.rf.272fe66909c218069f8483ac979b3b6d.jpg: 640x640 1 blimp, 97.0ms\n",
      "image 104/108 D:\\Uni Stuff\\IP\\Data\\RoboFlow\\train\\images\\image_8_png.rf.5db86745518cc5ea5c2dfdd905daeb97.jpg: 640x640 1 blimp, 100.0ms\n",
      "image 105/108 D:\\Uni Stuff\\IP\\Data\\RoboFlow\\train\\images\\image_8_png.rf.865a2220fc3e1d5b8163819b923db2d9.jpg: 640x640 1 blimp, 94.0ms\n",
      "image 106/108 D:\\Uni Stuff\\IP\\Data\\RoboFlow\\train\\images\\image_9_png.rf.5e941424b49828b4017d60d64a062667.jpg: 640x640 1 blimp, 100.0ms\n",
      "image 107/108 D:\\Uni Stuff\\IP\\Data\\RoboFlow\\train\\images\\image_9_png.rf.6ba705e254b6aeddee6cf07f728c3087.jpg: 640x640 1 blimp, 101.0ms\n",
      "image 108/108 D:\\Uni Stuff\\IP\\Data\\RoboFlow\\train\\images\\image_9_png.rf.e8a636eb9110460034421e6b5269b413.jpg: 640x640 1 blimp, 104.0ms\n",
      "Speed: 0.8ms preprocess, 99.8ms inference, 0.7ms postprocess per image at shape (1, 3, 640, 640)\n"
     ]
    }
   ],
   "source": [
    "results = model.predict(source=\"D:/Uni Stuff/IP/Data/RoboFlow/train/images\", save_conf=True)"
   ]
  },
  {
   "cell_type": "code",
   "execution_count": null,
   "metadata": {},
   "outputs": [],
   "source": [
    "for i in range(len(results)):\n",
    "    plot = results[i].plot()\n",
    "    cv2.imwrite(\"D:/Uni Stuff/IP/image_\" + str(i) + \".png\", plot)\n",
    "    cv2.imshow(\"Test Image \" + str(i), plot)\n",
    "\n",
    "cv2.waitKey(0)\n",
    "cv2.destroyAllWindows()"
   ]
  },
  {
   "cell_type": "code",
   "execution_count": 38,
   "metadata": {},
   "outputs": [],
   "source": [
    "speed = np.array([])\n",
    "size = np.array([])\n",
    "conf = np.array([])\n",
    "\n",
    "for result in results:\n",
    "    if len(result.boxes) == 0:\n",
    "        continue\n",
    "\n",
    "    speed = np.append(speed, [result.speed['inference']])\n",
    "\n",
    "    bbox_dim = result.boxes.xywhn\n",
    "    size = np.append(size, [bbox_dim[0][2] * bbox_dim[0][3]])\n",
    "    \n",
    "    conf = np.append(conf, [result.boxes.conf.numpy()[0]])"
   ]
  },
  {
   "cell_type": "code",
   "execution_count": 105,
   "metadata": {},
   "outputs": [],
   "source": [
    "xlim = [0, 0.05]\n",
    "ylim = [90, 130]\n",
    "\n",
    "plt.hist2d(size, speed, bins=50, cmap=plt.cm.Blues, range=[xlim, ylim])\n",
    "\n",
    "plt.xlabel(\"Bounding Box Size ($pixels^{2}$)\")\n",
    "plt.ylabel(\"Inference Speed ($ms$)\")\n",
    "plt.xlim(xlim)\n",
    "plt.ylim(ylim)\n",
    "plt.colorbar()\n",
    "plt.show()"
   ]
  },
  {
   "cell_type": "code",
   "execution_count": 108,
   "metadata": {},
   "outputs": [],
   "source": [
    "xlim = [0, 1.0]\n",
    "ylim = [90, 130]\n",
    "\n",
    "plt.hist2d(conf, speed, bins=50, cmap=plt.get_cmap('Blues'), range=[xlim, ylim])\n",
    "\n",
    "plt.xlabel(\"Confidence\")\n",
    "plt.ylabel(\"Inference Speed ($ms$)\")\n",
    "plt.xlim(xlim)\n",
    "plt.ylim(ylim)\n",
    "plt.colorbar()\n",
    "plt.show()"
   ]
  },
  {
   "cell_type": "code",
   "execution_count": 65,
   "metadata": {},
   "outputs": [],
   "source": [
    "bin_width = 1\n",
    "min_bin = int(np.min(speed) - (np.min(speed) % bin_width))\n",
    "max_bin = int(np.max(speed) + bin_width - (np.max(speed) % bin_width))\n",
    "\n",
    "plt.hist(speed, bins=np.arange(min_bin, max_bin + bin_width, bin_width))\n",
    "\n",
    "xlim = [int(min_bin - (min_bin % 10)), int(max_bin + 10 - (max_bin % 10))]\n",
    "\n",
    "plt.xlabel(\"Inference Speed ($ms$)\")\n",
    "plt.ylabel(\"Frequency\")\n",
    "plt.xlim(xlim)\n",
    "plt.show()"
   ]
  },
  {
   "cell_type": "code",
   "execution_count": 72,
   "metadata": {},
   "outputs": [],
   "source": [
    "bin_width = 0.05\n",
    "min_bin = int(np.min(conf) - (np.min(conf) % bin_width))\n",
    "max_bin = int(np.max(conf) + bin_width - (np.max(conf) % bin_width))\n",
    "\n",
    "plt.hist(conf, bins=np.arange(min_bin, max_bin + bin_width, bin_width))\n",
    "\n",
    "xlim = [0, 1]\n",
    "\n",
    "plt.xlabel(\"Confidence\")\n",
    "plt.ylabel(\"Frequency\")\n",
    "plt.xlim(xlim)\n",
    "plt.show()"
   ]
  }
 ],
 "metadata": {
  "kernelspec": {
   "display_name": "Python 3",
   "language": "python",
   "name": "python3"
  },
  "language_info": {
   "codemirror_mode": {
    "name": "ipython",
    "version": 3
   },
   "file_extension": ".py",
   "mimetype": "text/x-python",
   "name": "python",
   "nbconvert_exporter": "python",
   "pygments_lexer": "ipython3",
   "version": "3.11.3"
  },
  "vscode": {
   "interpreter": {
    "hash": "434abe537876e76c48face1f083399435d0c2b093d75494589d3bbe4bdcd6289"
   }
  }
 },
 "nbformat": 4,
 "nbformat_minor": 4
}
