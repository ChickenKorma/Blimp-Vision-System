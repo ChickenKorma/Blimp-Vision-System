{
 "cells": [
  {
   "attachments": {},
   "cell_type": "markdown",
   "metadata": {},
   "source": [
    "# Pose Estimation Models"
   ]
  },
  {
   "attachments": {},
   "cell_type": "markdown",
   "metadata": {},
   "source": [
    "## Imports"
   ]
  },
  {
   "cell_type": "code",
   "execution_count": 1,
   "metadata": {},
   "outputs": [],
   "source": [
    "import pandas as pd\n",
    "import cv2 as cv\n",
    "import numpy as np\n",
    "import tensorflow as tf\n",
    "import keras_tuner\n",
    "import keras.backend as K\n",
    "import math as m\n",
    "\n",
    "import matplotlib.pyplot as plt\n",
    "\n",
    "from sklearn.model_selection import train_test_split\n",
    "\n",
    "np.set_printoptions(suppress = True)"
   ]
  },
  {
   "attachments": {},
   "cell_type": "markdown",
   "metadata": {},
   "source": [
    "---"
   ]
  },
  {
   "attachments": {},
   "cell_type": "markdown",
   "metadata": {},
   "source": [
    "## Variables"
   ]
  },
  {
   "cell_type": "code",
   "execution_count": 2,
   "metadata": {},
   "outputs": [],
   "source": [
    "data_path_prefix = \"D:/Uni Stuff/IP/Data/\"\n",
    "image_path_prefix = data_path_prefix + \"Blimp Images/Raw/image_\"\n",
    "\n",
    "blimp_vertices = np.array([[1, 1, 1], [1, 1, -1], [1, -1, 1], [1, -1, -1], [-1, 1, 1], [-1, 1, -1], [-1, -1, -1], [-1, -1, 1]])\n",
    "\n",
    "test_split = 0.25\n",
    "\n",
    "desired_image_size = 16\n",
    "\n",
    "X_columns = [\"cent_x\", \"cent_y\", \"width\", \"height\"]\n",
    "colours = {0:\"R\", 1:\"G\", 2:\"B\"}\n",
    "\n",
    "# Create list of column names like '0 0 R', '0 0 G', '0 0 B', '0 1 R' etc\n",
    "for i in range(desired_image_size):\n",
    "    for j in range(desired_image_size):\n",
    "        for k in range(3):\n",
    "            X_columns.append(str(i) + \" \" + str(j) + \" \" + colours[k])"
   ]
  },
  {
   "attachments": {},
   "cell_type": "markdown",
   "metadata": {},
   "source": [
    "---"
   ]
  },
  {
   "attachments": {},
   "cell_type": "markdown",
   "metadata": {},
   "source": [
    "## Data Pre-processing"
   ]
  },
  {
   "attachments": {},
   "cell_type": "markdown",
   "metadata": {},
   "source": [
    "### CSVs"
   ]
  },
  {
   "attachments": {},
   "cell_type": "markdown",
   "metadata": {},
   "source": [
    "Load the bounding box and pose csv files and add to dataframes"
   ]
  },
  {
   "cell_type": "code",
   "execution_count": null,
   "metadata": {},
   "outputs": [],
   "source": [
    "bbox_data = pd.read_csv(data_path_prefix + \"bbox data.csv\")\n",
    "\n",
    "pose_data = pd.read_csv(data_path_prefix + \"blimp poses.csv\")\n",
    "y_variables = list(pose_data.columns)"
   ]
  },
  {
   "attachments": {},
   "cell_type": "markdown",
   "metadata": {},
   "source": [
    "### Images"
   ]
  },
  {
   "attachments": {},
   "cell_type": "markdown",
   "metadata": {},
   "source": [
    "Load the images from file, crop these by the bounding box and then resize to the desired square image size with padding to preserve aspect ratio. Image data is flattened and added to dataframe."
   ]
  },
  {
   "cell_type": "code",
   "execution_count": null,
   "metadata": {},
   "outputs": [],
   "source": [
    "# Crop the image to the bounding box coordinates\n",
    "def cutout_image(image, bbox):\n",
    "    width = image.shape[1]\n",
    "    height = image.shape[0]\n",
    "\n",
    "    center_x = bbox['cent_x'] * width\n",
    "    center_y = bbox['cent_y'] * height\n",
    "\n",
    "    bbox_width = bbox['width'] * width\n",
    "    bbox_height = bbox['height'] * height\n",
    "\n",
    "    min_x = np.clip(int(center_x - (bbox_width / 2)), 0, width)\n",
    "    max_x = np.clip(int(center_x + (bbox_width / 2)), 0, width) \n",
    "\n",
    "    min_y = np.clip(int(center_y - (bbox_height / 2)), 0, height)\n",
    "    max_y = np.clip(int(center_y + (bbox_height / 2)), 0, height)\n",
    "\n",
    "    return image[min_y:max_y, min_x:max_x]\n",
    "\n",
    "# Resize the image to the desired_image_size square and pad with black if necessary\n",
    "def resize_and_pad_image(image):\n",
    "    old_size = image.shape[:2]\n",
    "\n",
    "    size_ratio = float(desired_image_size) / max(old_size)\n",
    "\n",
    "    new_size = tuple([int(x * size_ratio) for x in old_size])\n",
    "\n",
    "    resized_image = cv.resize(image, (new_size[1], new_size[0]), interpolation=cv.INTER_AREA)\n",
    "\n",
    "    delta_w = desired_image_size - new_size[1]\n",
    "    delta_h = desired_image_size - new_size[0]\n",
    "    top, bottom = delta_h//2, delta_h-(delta_h//2)\n",
    "    left, right = delta_w//2, delta_w-(delta_w//2)\n",
    "\n",
    "    return cv.copyMakeBorder(resized_image, top, bottom, left, right, cv.BORDER_CONSTANT, value=[0, 0, 0])\n",
    "\n",
    "for i in range(len(pose_data)):\n",
    "    img = cv.imread(image_path_prefix + str(i) + \".png\")\n",
    "    cropped = cutout_image(img, bbox_data.iloc[i])\n",
    "    padded = resize_and_pad_image(cropped)\n",
    "\n",
    "    cv.imwrite(data_path_prefix + \"Processed Images/image_\" + str(i) + \".png\", padded)"
   ]
  },
  {
   "cell_type": "code",
   "execution_count": null,
   "metadata": {},
   "outputs": [],
   "source": [
    "load_path = data_path_prefix + \"Processed Images/image_\"\n",
    "\n",
    "save_path = data_path_prefix + \"Pose Estimation Data/\"\n",
    "train_save_path = save_path + \"train/\"\n",
    "test_save_path = save_path + \"test/\"\n",
    "\n",
    "train_image_save_path = train_save_path + \"images/image_\"\n",
    "test_image_save_path = test_save_path + \"images/image_\"\n",
    "\n",
    "train_nums, test_nums, = train_test_split(np.arange(15000), test_size=0.15)\n",
    "\n",
    "bbox_train = pd.DataFrame(columns=[\"image\", \"cent_x\", \"cent_y\", \"width\", \"height\"])\n",
    "bbox_test = pd.DataFrame(columns=[\"image\", \"cent_x\", \"cent_y\", \"width\", \"height\"])\n",
    "\n",
    "pose_train = pd.DataFrame(columns=[\"image\", \"pos_x\", \"pos_y\", \"pos_z\", \"rot_x\", \"rot_y\", \"rot_z\"])\n",
    "pose_test = pd.DataFrame(columns=[\"image\", \"pos_x\", \"pos_y\", \"pos_z\", \"rot_x\", \"rot_y\", \"rot_z\"])\n",
    "\n",
    "for num in train_nums:\n",
    "    image = cv.imread(load_path + str(num) + \".png\")\n",
    "    cv.imwrite(train_image_save_path + str(num) + \".png\", image)\n",
    "\n",
    "    bbox_train.loc[len(bbox_train)] = np.append([num], bbox_data.iloc[num])\n",
    "\n",
    "    pose_train.loc[len(pose_train)] = np.append([num], pose_data.iloc[num])\n",
    "\n",
    "bbox_train.to_csv(train_save_path + \"bbox data.csv\", index=False)\n",
    "pose_train.to_csv(train_save_path + \"pose data.csv\", index=False)\n",
    "\n",
    "print(\"Training done\")\n",
    "\n",
    "for num in test_nums:\n",
    "    image = cv.imread(load_path + str(num) + \".png\")\n",
    "    cv.imwrite(test_image_save_path + str(num) + \".png\", image)\n",
    "\n",
    "    bbox_test.loc[len(bbox_test)] = np.append([num], bbox_data.iloc[num])\n",
    "\n",
    "    pose_test.loc[len(pose_test)] = np.append([num], pose_data.iloc[num])\n",
    "\n",
    "bbox_test.to_csv(test_save_path + \"bbox data.csv\", index=False)\n",
    "pose_test.to_csv(test_save_path + \"pose data.csv\", index=False)\n",
    "\n",
    "print(\"Testing done\")"
   ]
  },
  {
   "cell_type": "code",
   "execution_count": null,
   "metadata": {},
   "outputs": [],
   "source": [
    "bbox = pd.read_csv(train_save_path + \"bbox data.csv\")\n",
    "print(bbox)"
   ]
  },
  {
   "attachments": {},
   "cell_type": "markdown",
   "metadata": {},
   "source": [
    "### Cleanup"
   ]
  },
  {
   "attachments": {},
   "cell_type": "markdown",
   "metadata": {},
   "source": [
    "Remove unecessary variables from RAM"
   ]
  },
  {
   "cell_type": "code",
   "execution_count": null,
   "metadata": {},
   "outputs": [],
   "source": [
    "del bbox_data\n",
    "del pose_data"
   ]
  },
  {
   "attachments": {},
   "cell_type": "markdown",
   "metadata": {},
   "source": [
    "---"
   ]
  },
  {
   "attachments": {},
   "cell_type": "markdown",
   "metadata": {},
   "source": [
    "## ADD Metric"
   ]
  },
  {
   "attachments": {},
   "cell_type": "markdown",
   "metadata": {},
   "source": [
    "Create functions to calculate ADD"
   ]
  },
  {
   "cell_type": "code",
   "execution_count": 3,
   "metadata": {},
   "outputs": [],
   "source": [
    "# Get the rotation matrix of an XYZ rotation with the euler angles vector\n",
    "def get_rotation_matrix(rot_vec):\n",
    "    x_matrix = np.matrix([[ 1, 0, 0],\n",
    "                          [ 0, m.cos(m.radians(rot_vec[0])),-m.sin(m.radians(rot_vec[0]))],                         \n",
    "                          [ 0, m.sin(m.radians(rot_vec[0])), m.cos(m.radians(rot_vec[0]))]])\n",
    "    \n",
    "    y_matrix = np.matrix([[ m.cos(m.radians(rot_vec[1])), 0, m.sin(m.radians(rot_vec[1]))],\n",
    "                          [ 0, 1, 0],\n",
    "                          [-m.sin(m.radians(rot_vec[1])), 0, m.cos(m.radians(rot_vec[1]))]])\n",
    "    \n",
    "    z_matrix = np.matrix([[ m.cos(m.radians(rot_vec[2])), -m.sin(m.radians(rot_vec[2])), 0 ],\n",
    "                          [ m.sin(m.radians(rot_vec[2])),  m.cos(m.radians(rot_vec[2])), 0 ],\n",
    "                          [ 0, 0, 1 ]])\n",
    "    \n",
    "    return z_matrix * y_matrix * x_matrix\n",
    "\n",
    "# Get the average distance between true and predicted model points\n",
    "def get_ADD(true_trans, true_rot_vec, pred_trans, pred_rot_vec):\n",
    "    true_rot = get_rotation_matrix(true_rot_vec).T\n",
    "    pred_rot = get_rotation_matrix(pred_rot_vec).T\n",
    "\n",
    "    total_distance = 0\n",
    "\n",
    "    for vertex_pos in blimp_vertices:\n",
    "        true_pos = np.matmul(true_rot, vertex_pos) - true_trans\n",
    "        pred_pos = np.matmul(pred_rot, vertex_pos) - pred_trans\n",
    "\n",
    "        distance = np.linalg.norm(true_pos - pred_pos)\n",
    "        total_distance += distance\n",
    "\n",
    "    return total_distance / len(blimp_vertices)"
   ]
  },
  {
   "cell_type": "code",
   "execution_count": 4,
   "metadata": {},
   "outputs": [],
   "source": [
    "def ADD_metric(y_true, y_pred):\n",
    "    true_trans = y_true[:3]\n",
    "    true_rot_vec = y_true[3:]\n",
    "\n",
    "    pred_trans = y_pred[:3]\n",
    "    pred_rot_vec = y_pred[3:]\n",
    "\n",
    "    return get_ADD(true_trans, true_rot_vec, pred_trans, pred_rot_vec)"
   ]
  },
  {
   "attachments": {},
   "cell_type": "markdown",
   "metadata": {},
   "source": [
    "---"
   ]
  },
  {
   "cell_type": "code",
   "execution_count": 5,
   "metadata": {},
   "outputs": [],
   "source": [
    "train_images_path = data_path_prefix + \"Pose Estimation Data/train/images/image_\"\n",
    "\n",
    "bbox_train = pd.read_csv(data_path_prefix + \"Pose Estimation Data/train/bbox data.csv\")\n",
    "\n",
    "X_train = pd.DataFrame(columns=X_columns)\n",
    "\n",
    "for i in range(len(bbox_train)):\n",
    "    row = bbox_train.loc[i]\n",
    "    num = int(row[\"image\"])\n",
    "    data = np.array([row[1], row[2], row[3], row[4]])\n",
    "\n",
    "    image = cv.imread(train_images_path + str(num) + \".png\")\n",
    "\n",
    "    X_train.loc[len(X_train)] = np.append(data, image.flatten())\n",
    "\n",
    "y_train = pd.read_csv(data_path_prefix + \"Pose Estimation Data/train/pose data.csv\")\n",
    "y_train = y_train.drop(y_train.columns[0], axis=1)"
   ]
  },
  {
   "cell_type": "code",
   "execution_count": 5,
   "metadata": {},
   "outputs": [],
   "source": [
    "test_images_path = data_path_prefix + \"Pose Estimation Data/test/images/image_\"\n",
    "\n",
    "bbox_test = pd.read_csv(data_path_prefix + \"Pose Estimation Data/test/bbox data.csv\")\n",
    "\n",
    "X_test = pd.DataFrame(columns=X_columns)\n",
    "\n",
    "for i in range(len(bbox_test)):\n",
    "    row = bbox_test.loc[i]\n",
    "    num = int(row[\"image\"])\n",
    "    data = np.array([row[1], row[2], row[3], row[4]])\n",
    "\n",
    "    image = cv.imread(test_images_path + str(num) + \".png\")\n",
    "\n",
    "    X_test.loc[len(X_test)] = np.append(data, image.flatten())\n",
    "\n",
    "y_test = pd.read_csv(data_path_prefix + \"Pose Estimation Data/test/pose data.csv\")\n",
    "y_test = y_test.drop(y_test.columns[0], axis=1)"
   ]
  },
  {
   "attachments": {},
   "cell_type": "markdown",
   "metadata": {},
   "source": [
    "## Training"
   ]
  },
  {
   "attachments": {},
   "cell_type": "markdown",
   "metadata": {},
   "source": [
    "Create normalizer function based on input data"
   ]
  },
  {
   "cell_type": "code",
   "execution_count": 7,
   "metadata": {},
   "outputs": [],
   "source": [
    "normalizer = tf.keras.layers.Normalization(axis=-1)\n",
    "normalizer.adapt(np.array(X_train))"
   ]
  },
  {
   "cell_type": "code",
   "execution_count": 8,
   "metadata": {},
   "outputs": [],
   "source": [
    "tf.compat.v1.enable_eager_execution()"
   ]
  },
  {
   "attachments": {},
   "cell_type": "markdown",
   "metadata": {},
   "source": [
    "Create the DNN model and print details"
   ]
  },
  {
   "cell_type": "code",
   "execution_count": 28,
   "metadata": {},
   "outputs": [
    {
     "name": "stdout",
     "output_type": "stream",
     "text": [
      "Trial 150 Complete [00h 07m 47s]\n",
      "val_loss: 2.7604756355285645\n",
      "\n",
      "Best val_loss So Far: 1.7224748134613037\n",
      "Total elapsed time: 08h 25m 00s\n",
      "INFO:tensorflow:Oracle triggered exit\n"
     ]
    },
    {
     "name": "stderr",
     "output_type": "stream",
     "text": [
      "INFO:tensorflow:Oracle triggered exit\n"
     ]
    }
   ],
   "source": [
    "def build_and_compile_model(hp):\n",
    "  layers = [normalizer]\n",
    "\n",
    "  starting_nodes_per_layer = hp.Int(\"staring_nodes_per_layer\", 8, 128, step=8, sampling=\"log\")\n",
    "  \n",
    "  for i in range(hp.Int(\"blocks\", 1, 5)):\n",
    "    nodes = starting_nodes_per_layer * (1 if (i == 0) else (i * 2))\n",
    "\n",
    "    for _ in range(hp.Int(\"layers_per_block\", 1, 5)): \n",
    "      layers.append(tf.keras.layers.Dense(nodes, activation='relu'))\n",
    "\n",
    "  layers.append(tf.keras.layers.Dense(6))\n",
    "\n",
    "  model = tf.keras.Sequential(layers)\n",
    "  model.compile(loss = 'mean_squared_error', metrics=['accuracy'], optimizer=tf.keras.optimizers.Adam(0.001))\n",
    "\n",
    "  return model\n",
    "\n",
    "tuner = keras_tuner.BayesianOptimization(\n",
    "    build_and_compile_model,\n",
    "    objective=\"val_loss\",\n",
    "    directory=\"logs/\",\n",
    "    max_trials=150\n",
    ")\n",
    "\n",
    "tensorboard_callback = tf.keras.callbacks.TensorBoard(\"mse_logs/\")\n",
    "early_stop_callback = tf.keras.callbacks.EarlyStopping(monitor=\"val_loss\", mode=\"min\", patience=5)\n",
    "\n",
    "tuner.search(\n",
    "    X_train,\n",
    "    y_train,\n",
    "    validation_split=0.215,\n",
    "    epochs=100,\n",
    "    callbacks=[tensorboard_callback, early_stop_callback],\n",
    ")"
   ]
  },
  {
   "cell_type": "code",
   "execution_count": 29,
   "metadata": {},
   "outputs": [
    {
     "name": "stdout",
     "output_type": "stream",
     "text": [
      "WARNING:tensorflow:Detecting that an object or model or tf.train.Checkpoint is being deleted with unrestored values. See the following logs for the specific values in question. To silence these warnings, use `status.expect_partial()`. See https://www.tensorflow.org/api_docs/python/tf/train/Checkpoint#restorefor details about the status object returned by the restore function.\n"
     ]
    },
    {
     "name": "stderr",
     "output_type": "stream",
     "text": [
      "WARNING:tensorflow:Detecting that an object or model or tf.train.Checkpoint is being deleted with unrestored values. See the following logs for the specific values in question. To silence these warnings, use `status.expect_partial()`. See https://www.tensorflow.org/api_docs/python/tf/train/Checkpoint#restorefor details about the status object returned by the restore function.\n"
     ]
    },
    {
     "name": "stdout",
     "output_type": "stream",
     "text": [
      "WARNING:tensorflow:Value in checkpoint could not be found in the restored object: (root).optimizer._variables.1\n"
     ]
    },
    {
     "name": "stderr",
     "output_type": "stream",
     "text": [
      "WARNING:tensorflow:Value in checkpoint could not be found in the restored object: (root).optimizer._variables.1\n"
     ]
    },
    {
     "name": "stdout",
     "output_type": "stream",
     "text": [
      "WARNING:tensorflow:Value in checkpoint could not be found in the restored object: (root).optimizer._variables.2\n"
     ]
    },
    {
     "name": "stderr",
     "output_type": "stream",
     "text": [
      "WARNING:tensorflow:Value in checkpoint could not be found in the restored object: (root).optimizer._variables.2\n"
     ]
    },
    {
     "name": "stdout",
     "output_type": "stream",
     "text": [
      "WARNING:tensorflow:Value in checkpoint could not be found in the restored object: (root).optimizer._variables.3\n"
     ]
    },
    {
     "name": "stderr",
     "output_type": "stream",
     "text": [
      "WARNING:tensorflow:Value in checkpoint could not be found in the restored object: (root).optimizer._variables.3\n"
     ]
    },
    {
     "name": "stdout",
     "output_type": "stream",
     "text": [
      "WARNING:tensorflow:Value in checkpoint could not be found in the restored object: (root).optimizer._variables.4\n"
     ]
    },
    {
     "name": "stderr",
     "output_type": "stream",
     "text": [
      "WARNING:tensorflow:Value in checkpoint could not be found in the restored object: (root).optimizer._variables.4\n"
     ]
    },
    {
     "name": "stdout",
     "output_type": "stream",
     "text": [
      "WARNING:tensorflow:Value in checkpoint could not be found in the restored object: (root).optimizer._variables.5\n"
     ]
    },
    {
     "name": "stderr",
     "output_type": "stream",
     "text": [
      "WARNING:tensorflow:Value in checkpoint could not be found in the restored object: (root).optimizer._variables.5\n"
     ]
    },
    {
     "name": "stdout",
     "output_type": "stream",
     "text": [
      "WARNING:tensorflow:Value in checkpoint could not be found in the restored object: (root).optimizer._variables.6\n"
     ]
    },
    {
     "name": "stderr",
     "output_type": "stream",
     "text": [
      "WARNING:tensorflow:Value in checkpoint could not be found in the restored object: (root).optimizer._variables.6\n"
     ]
    },
    {
     "name": "stdout",
     "output_type": "stream",
     "text": [
      "WARNING:tensorflow:Value in checkpoint could not be found in the restored object: (root).optimizer._variables.7\n"
     ]
    },
    {
     "name": "stderr",
     "output_type": "stream",
     "text": [
      "WARNING:tensorflow:Value in checkpoint could not be found in the restored object: (root).optimizer._variables.7\n"
     ]
    },
    {
     "name": "stdout",
     "output_type": "stream",
     "text": [
      "WARNING:tensorflow:Value in checkpoint could not be found in the restored object: (root).optimizer._variables.8\n"
     ]
    },
    {
     "name": "stderr",
     "output_type": "stream",
     "text": [
      "WARNING:tensorflow:Value in checkpoint could not be found in the restored object: (root).optimizer._variables.8\n"
     ]
    },
    {
     "name": "stdout",
     "output_type": "stream",
     "text": [
      "WARNING:tensorflow:Value in checkpoint could not be found in the restored object: (root).optimizer._variables.9\n"
     ]
    },
    {
     "name": "stderr",
     "output_type": "stream",
     "text": [
      "WARNING:tensorflow:Value in checkpoint could not be found in the restored object: (root).optimizer._variables.9\n"
     ]
    },
    {
     "name": "stdout",
     "output_type": "stream",
     "text": [
      "WARNING:tensorflow:Value in checkpoint could not be found in the restored object: (root).optimizer._variables.10\n"
     ]
    },
    {
     "name": "stderr",
     "output_type": "stream",
     "text": [
      "WARNING:tensorflow:Value in checkpoint could not be found in the restored object: (root).optimizer._variables.10\n"
     ]
    },
    {
     "name": "stdout",
     "output_type": "stream",
     "text": [
      "WARNING:tensorflow:Value in checkpoint could not be found in the restored object: (root).optimizer._variables.11\n"
     ]
    },
    {
     "name": "stderr",
     "output_type": "stream",
     "text": [
      "WARNING:tensorflow:Value in checkpoint could not be found in the restored object: (root).optimizer._variables.11\n"
     ]
    },
    {
     "name": "stdout",
     "output_type": "stream",
     "text": [
      "WARNING:tensorflow:Value in checkpoint could not be found in the restored object: (root).optimizer._variables.12\n"
     ]
    },
    {
     "name": "stderr",
     "output_type": "stream",
     "text": [
      "WARNING:tensorflow:Value in checkpoint could not be found in the restored object: (root).optimizer._variables.12\n"
     ]
    }
   ],
   "source": [
    "best_model = tuner.get_best_models()[0]"
   ]
  },
  {
   "cell_type": "code",
   "execution_count": 30,
   "metadata": {},
   "outputs": [
    {
     "name": "stderr",
     "output_type": "stream",
     "text": [
      "WARNING:absl:Found untraced functions such as _update_step_xla while saving (showing 1 of 1). These functions will not be directly callable after loading.\n"
     ]
    },
    {
     "name": "stdout",
     "output_type": "stream",
     "text": [
      "INFO:tensorflow:Assets written to: D:/Uni Stuff/IP/Coding/Repository/Blimp-Vision-System/Keras models/Best Squared Model\\assets\n"
     ]
    },
    {
     "name": "stderr",
     "output_type": "stream",
     "text": [
      "INFO:tensorflow:Assets written to: D:/Uni Stuff/IP/Coding/Repository/Blimp-Vision-System/Keras models/Best Squared Model\\assets\n"
     ]
    }
   ],
   "source": [
    "best_model.save(\"D:/Uni Stuff/IP/Coding/Repository/Blimp-Vision-System/Keras models/Best Squared Model\")"
   ]
  },
  {
   "attachments": {},
   "cell_type": "markdown",
   "metadata": {},
   "source": [
    "---"
   ]
  },
  {
   "attachments": {},
   "cell_type": "markdown",
   "metadata": {},
   "source": [
    "## Evaluate"
   ]
  },
  {
   "cell_type": "markdown",
   "metadata": {},
   "source": [
    "Plot the loss and epoch graph"
   ]
  },
  {
   "cell_type": "code",
   "execution_count": null,
   "metadata": {},
   "outputs": [],
   "source": [
    "def plot_loss(history):\n",
    "  plt.plot(history.history['loss'], label='loss')\n",
    "  plt.plot(history.history['val_loss'], label='val_loss')\n",
    "  plt.xlabel('Epoch')\n",
    "  plt.ylabel('Error')\n",
    "  plt.legend()\n",
    "  plt.grid(True)\n",
    "\n",
    "plot_loss(best_model)"
   ]
  },
  {
   "attachments": {},
   "cell_type": "markdown",
   "metadata": {},
   "source": [
    "Evaluate performance out-of-sample on the testing data set"
   ]
  },
  {
   "cell_type": "code",
   "execution_count": 12,
   "metadata": {},
   "outputs": [
    {
     "name": "stdout",
     "output_type": "stream",
     "text": [
      "71/71 [==============================] - 0s 1ms/step - loss: 0.6317 - accuracy: 1.0000 - mean_absolute_error: 0.6317\n"
     ]
    },
    {
     "data": {
      "text/plain": [
       "[0.6317267417907715, 1.0, 0.6317267417907715]"
      ]
     },
     "execution_count": 12,
     "metadata": {},
     "output_type": "execute_result"
    }
   ],
   "source": [
    "best_absolute_model = tf.keras.models.load_model(\"D:/Uni Stuff/IP/Coding/Repository/Blimp-Vision-System/Keras models/Best Absolute Model\")\n",
    "\n",
    "best_absolute_model.evaluate(X_test, y_test)"
   ]
  },
  {
   "attachments": {},
   "cell_type": "markdown",
   "metadata": {},
   "source": [
    "Print the true and predicted poses"
   ]
  },
  {
   "cell_type": "code",
   "execution_count": 13,
   "metadata": {},
   "outputs": [
    {
     "name": "stdout",
     "output_type": "stream",
     "text": [
      "71/71 [==============================] - 0s 872us/step\n"
     ]
    }
   ],
   "source": [
    "predictions = pd.DataFrame(best_absolute_model.predict(X_test), columns=[\"pos_x\", \"pos_y\", \"pos_z\", \"rot_x\", \"rot_y\", \"rot_z\"])\n",
    "\n",
    "add = []\n",
    "\n",
    "for i in range(len(y_test)):\n",
    "    add.append(ADD_metric(y_test.loc[i].to_numpy(), predictions.loc[0].to_numpy()))"
   ]
  },
  {
   "cell_type": "code",
   "execution_count": 14,
   "metadata": {},
   "outputs": [
    {
     "data": {
      "image/png": "[encoded data removed]",
      "text/plain": [
       "<Figure size 640x480 with 1 Axes>"
      ]
     },
     "metadata": {},
     "output_type": "display_data"
    }
   ],
   "source": [
    "new_add = np.array(add) / 1\n",
    "\n",
    "bin_width = 1\n",
    "min_bin = int(np.min(new_add) - (np.min(new_add) % bin_width))\n",
    "max_bin = int(np.max(new_add) + bin_width - (np.max(new_add) % bin_width))\n",
    "\n",
    "plt.hist(new_add, bins=np.arange(min_bin, max_bin + bin_width, bin_width))\n",
    "\n",
    "#xlim = [0, 1]\n",
    "\n",
    "plt.xlabel(\"ADD ($m$)\")\n",
    "plt.ylabel(\"Frequency\")\n",
    "#plt.xlim(xlim)\n",
    "plt.show()"
   ]
  },
  {
   "cell_type": "code",
   "execution_count": 16,
   "metadata": {},
   "outputs": [
    {
     "name": "stdout",
     "output_type": "stream",
     "text": [
      "71/71 [==============================] - 0s 857us/step - loss: 94.5539 - accuracy: 1.0000\n"
     ]
    },
    {
     "data": {
      "text/plain": [
       "[94.55387115478516, 1.0]"
      ]
     },
     "execution_count": 16,
     "metadata": {},
     "output_type": "execute_result"
    }
   ],
   "source": [
    "best_absolute_percentage_model = tf.keras.models.load_model(\"D:/Uni Stuff/IP/Coding/Repository/Blimp-Vision-System/Keras models/Best Absolute Percentage Model\")\n",
    "\n",
    "best_absolute_percentage_model.evaluate(X_test, y_test)"
   ]
  },
  {
   "cell_type": "code",
   "execution_count": 18,
   "metadata": {},
   "outputs": [
    {
     "name": "stdout",
     "output_type": "stream",
     "text": [
      "71/71 [==============================] - 0s 743us/step\n"
     ]
    },
    {
     "data": {
      "image/png": "[encoded data removed]",
      "text/plain": [
       "<Figure size 640x480 with 1 Axes>"
      ]
     },
     "metadata": {},
     "output_type": "display_data"
    }
   ],
   "source": [
    "predictions = pd.DataFrame(best_absolute_percentage_model.predict(X_test), columns=[\"pos_x\", \"pos_y\", \"pos_z\", \"rot_x\", \"rot_y\", \"rot_z\"])\n",
    "\n",
    "add = []\n",
    "\n",
    "for i in range(len(y_test)):\n",
    "    add.append(ADD_metric(y_test.loc[i].to_numpy(), predictions.loc[0].to_numpy()))\n",
    "\n",
    "bin_width = 1\n",
    "min_bin = int(np.min(add) - (np.min(add) % bin_width))\n",
    "max_bin = int(np.max(add) + bin_width - (np.max(add) % bin_width))\n",
    "\n",
    "plt.hist(add, bins=np.arange(min_bin, max_bin + bin_width, bin_width))\n",
    "\n",
    "#xlim = [0, 1]\n",
    "\n",
    "plt.xlabel(\"ADD ($m$)\")\n",
    "plt.ylabel(\"Frequency\")\n",
    "#plt.xlim(xlim)\n",
    "plt.show()"
   ]
  },
  {
   "cell_type": "code",
   "execution_count": 24,
   "metadata": {},
   "outputs": [
    {
     "name": "stdout",
     "output_type": "stream",
     "text": [
      "71/71 [==============================] - 0s 1ms/step - loss: 0.0088 - accuracy: 1.0000\n"
     ]
    },
    {
     "data": {
      "text/plain": [
       "[0.008787216618657112, 1.0]"
      ]
     },
     "execution_count": 24,
     "metadata": {},
     "output_type": "execute_result"
    }
   ],
   "source": [
    "best_squared_log_model = tf.keras.models.load_model(\"D:/Uni Stuff/IP/Coding/Repository/Blimp-Vision-System/Keras models/Best Squared Logarithmic Model\")\n",
    "\n",
    "best_squared_log_model.evaluate(X_test, y_test)"
   ]
  },
  {
   "cell_type": "code",
   "execution_count": 25,
   "metadata": {},
   "outputs": [
    {
     "name": "stdout",
     "output_type": "stream",
     "text": [
      "71/71 [==============================] - 0s 1ms/step\n"
     ]
    },
    {
     "data": {
      "image/png": "[encoded data removed]",
      "text/plain": [
       "<Figure size 640x480 with 1 Axes>"
      ]
     },
     "metadata": {},
     "output_type": "display_data"
    }
   ],
   "source": [
    "predictions = pd.DataFrame(best_squared_log_model.predict(X_test), columns=[\"pos_x\", \"pos_y\", \"pos_z\", \"rot_x\", \"rot_y\", \"rot_z\"])\n",
    "\n",
    "add = []\n",
    "\n",
    "for i in range(len(y_test)):\n",
    "    add.append(ADD_metric(y_test.loc[i].to_numpy(), predictions.loc[0].to_numpy()))\n",
    "\n",
    "bin_width = 1\n",
    "min_bin = int(np.min(add) - (np.min(add) % bin_width))\n",
    "max_bin = int(np.max(add) + bin_width - (np.max(add) % bin_width))\n",
    "\n",
    "plt.hist(add, bins=np.arange(min_bin, max_bin + bin_width, bin_width))\n",
    "\n",
    "#xlim = [0, 1]\n",
    "\n",
    "plt.xlabel(\"ADD ($m$)\")\n",
    "plt.ylabel(\"Frequency\")\n",
    "#plt.xlim(xlim)\n",
    "plt.show()"
   ]
  },
  {
   "cell_type": "code",
   "execution_count": 7,
   "metadata": {},
   "outputs": [
    {
     "name": "stdout",
     "output_type": "stream",
     "text": [
      "71/71 [==============================] - 0s 1ms/step - loss: 1.7328 - accuracy: 1.0000\n"
     ]
    },
    {
     "data": {
      "text/plain": [
       "[1.7327977418899536, 1.0]"
      ]
     },
     "execution_count": 7,
     "metadata": {},
     "output_type": "execute_result"
    }
   ],
   "source": [
    "best_squared_model = tf.keras.models.load_model(\"D:/Uni Stuff/IP/Coding/Repository/Blimp-Vision-System/Keras models/Best Squared Model\")\n",
    "\n",
    "best_squared_model.evaluate(X_test, y_test)"
   ]
  },
  {
   "cell_type": "code",
   "execution_count": 8,
   "metadata": {},
   "outputs": [
    {
     "name": "stdout",
     "output_type": "stream",
     "text": [
      "71/71 [==============================] - 0s 1ms/step\n"
     ]
    },
    {
     "data": {
      "image/png": "[encoded data removed]",
      "text/plain": [
       "<Figure size 640x480 with 1 Axes>"
      ]
     },
     "metadata": {},
     "output_type": "display_data"
    }
   ],
   "source": [
    "predictions = pd.DataFrame(best_squared_model.predict(X_test), columns=[\"pos_x\", \"pos_y\", \"pos_z\", \"rot_x\", \"rot_y\", \"rot_z\"])\n",
    "\n",
    "add = []\n",
    "\n",
    "for i in range(len(y_test)):\n",
    "    add.append(ADD_metric(y_test.loc[i].to_numpy(), predictions.loc[0].to_numpy()))\n",
    "\n",
    "bin_width = 1\n",
    "min_bin = int(np.min(add) - (np.min(add) % bin_width))\n",
    "max_bin = int(np.max(add) + bin_width - (np.max(add) % bin_width))\n",
    "\n",
    "plt.hist(add, bins=np.arange(min_bin, max_bin + bin_width, bin_width))\n",
    "\n",
    "#xlim = [0, 1]\n",
    "\n",
    "plt.xlabel(\"ADD ($m$)\")\n",
    "plt.ylabel(\"Frequency\")\n",
    "#plt.xlim(xlim)\n",
    "plt.show()"
   ]
  },
  {
   "attachments": {},
   "cell_type": "markdown",
   "metadata": {},
   "source": [
    "---"
   ]
  },
  {
   "attachments": {},
   "cell_type": "markdown",
   "metadata": {},
   "source": [
    "## Tuning"
   ]
  }
 ],
 "metadata": {
  "kernelspec": {
   "display_name": "Python 3",
   "language": "python",
   "name": "python3"
  },
  "language_info": {
   "codemirror_mode": {
    "name": "ipython",
    "version": 3
   },
   "file_extension": ".py",
   "mimetype": "text/x-python",
   "name": "python",
   "nbconvert_exporter": "python",
   "pygments_lexer": "ipython3",
   "version": "3.9.7"
  },
  "orig_nbformat": 4
 },
 "nbformat": 4,
 "nbformat_minor": 2
}
